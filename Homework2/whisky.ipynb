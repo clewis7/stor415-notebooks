{
 "cells": [
  {
   "cell_type": "markdown",
   "metadata": {},
   "source": [
    "# Question 2"
   ]
  },
  {
   "cell_type": "markdown",
   "metadata": {},
   "source": [
    "Hackensack Blended Whiskey Company uses three grades of whiskey to make blended varieties. They do not produce their own whiskey, and instead purchase three varieties to make their blends: Standard, Choice, and Prime. These unblended grades can be used to make the following two brands of whiskey, with associated characteristics:\n",
    "\n",
    "- Scottish Club: Must contain at least 60% Prime and at most 20% Standard. Scottish Club sells for $6.80 per liter.\n",
    "- Johnny Gold: Must contain at least 15% Prime and at most 60% Standard. Johnny Gold sells for $5.70 per liter.\n",
    "\n",
    "The amount of available raw whiskey and their associated costs are:\n",
    "\n",
    "| Whiskey       | Available (no. of liters) | Cost per liter (in $)  |\n",
    "|:------------: |:-------------------------:|:----------------------:|\n",
    "| Standard      | 1,200                     | 4.00                   |\n",
    "| Choice        | 2,500                     | 5.00                   |\n",
    "| Prime         | 2,000                     | 7.00                   |\n",
    "\n",
    "Hackensack doesn't want to produce more whiskey than it knows it can sell. It estimates its current demand for each type of blended whiskey as:\n",
    "\n",
    "| Blended Whiskey | Demand (in liters) | \n",
    "|:---------------:|:------------------:|\n",
    "| Scottish Club   | 1,000              | \n",
    "| Johnny Gold     | 600                | \n",
    "\n",
    "Hackensack can increase its demand by advertising its blended whiskeys. For each dollar spent on advertising any type of its blended whiskeys, that type of whiskey's demand will increase by 1.25 liters.\n",
    "\n",
    "Formulat an LP to maximize the total profit (revenue minus cost):"
   ]
  },
  {
   "cell_type": "code",
   "execution_count": 2,
   "metadata": {},
   "outputs": [
    {
     "data": {
      "text/plain": [
       "A JuMP Model\n",
       "Feasibility problem with:\n",
       "Variables: 0\n",
       "Model mode: AUTOMATIC\n",
       "CachingOptimizer state: EMPTY_OPTIMIZER\n",
       "Solver name: HiGHS"
      ]
     },
     "execution_count": 2,
     "metadata": {},
     "output_type": "execute_result"
    }
   ],
   "source": [
    "# declaring model \n",
    "using JuMP, HiGHS\n",
    "\n",
    "# defining model\n",
    "whiskey = Model(HiGHS.Optimizer)"
   ]
  },
  {
   "cell_type": "code",
   "execution_count": 3,
   "metadata": {},
   "outputs": [
    {
     "data": {
      "text/plain": [
       "2-element Vector{Symbol}:\n",
       " :ScottishClub\n",
       " :JohnnyGold"
      ]
     },
     "execution_count": 3,
     "metadata": {},
     "output_type": "execute_result"
    }
   ],
   "source": [
    "# vector for raw whiskey\n",
    "raw_whiskey = [:Standard, :Choice, :Prime]\n",
    "\n",
    "# vector for blended whiskey\n",
    "blended_whiskey = [:ScottishClub, :JohnnyGold]"
   ]
  },
  {
   "cell_type": "code",
   "execution_count": 4,
   "metadata": {},
   "outputs": [
    {
     "data": {
      "text/latex": [
       "$$ advertising2 $$"
      ],
      "text/plain": [
       "advertising2"
      ]
     },
     "execution_count": 4,
     "metadata": {},
     "output_type": "execute_result"
    }
   ],
   "source": [
    "# declaring variables\n",
    "@variable(whiskey, x[raw_whiskey, blended_whiskey] >= 0)\n",
    "@variable(whiskey, advertising >= 0)\n",
    "@variable(whiskey, advertising2 >= 0)"
   ]
  },
  {
   "cell_type": "code",
   "execution_count": 5,
   "metadata": {},
   "outputs": [
    {
     "data": {
      "text/latex": [
       "demand2 : $ x_{Standard,JohnnyGold} + x_{Choice,JohnnyGold} + x_{Prime,JohnnyGold} - 1.25 advertising2 \\leq 600.0 $"
      ],
      "text/plain": [
       "demand2 : x[Standard,JohnnyGold] + x[Choice,JohnnyGold] + x[Prime,JohnnyGold] - 1.25 advertising2 ≤ 600.0"
      ]
     },
     "execution_count": 5,
     "metadata": {},
     "output_type": "execute_result"
    }
   ],
   "source": [
    "# scottish club constraints\n",
    "@constraint(whiskey, SCBound1, x[:Prime, :ScottishClub] >= 0.6*sum(x[i,:ScottishClub] for i in raw_whiskey));\n",
    "@constraint(whiskey, SCBound2, x[:Standard, :ScottishClub] <= 0.2*sum(x[i,:ScottishClub] for i in raw_whiskey));\n",
    "\n",
    "# johnny gold constraints\n",
    "@constraint(whiskey, JGBound1, x[:Prime, :JohnnyGold] >= 0.15*sum(x[i,:JohnnyGold] for i in raw_whiskey));\n",
    "@constraint(whiskey, JGBound2, x[:Standard, :JohnnyGold] <= 0.6*sum(x[i,:JohnnyGold] for i in raw_whiskey));\n",
    "\n",
    "# raw whiskey constraints\n",
    "@constraint(whiskey, SumBound, sum(x[:Standard, i] for i in blended_whiskey) <= 1200)\n",
    "@constraint(whiskey, SumBound2, sum(x[:Choice, i] for i in blended_whiskey) <= 2500)\n",
    "@constraint(whiskey, SumBound3, sum(x[:Prime, i] for i in blended_whiskey) <= 2000)\n",
    "\n",
    "# demand constraints \n",
    "@constraint(whiskey, demand, sum(x[i, :ScottishClub] for i in raw_whiskey) <= (1.25*advertising) + 1000)\n",
    "@constraint(whiskey, demand2, sum(x[i, :JohnnyGold] for i in raw_whiskey) <= (1.25*advertising2) + 600)"
   ]
  },
  {
   "cell_type": "code",
   "execution_count": 6,
   "metadata": {},
   "outputs": [
    {
     "data": {
      "text/latex": [
       "$$ 2.8 x_{Standard,ScottishClub} + 1.7999999999999998 x_{Choice,ScottishClub} - 0.20000000000000018 x_{Prime,ScottishClub} + 1.7000000000000002 x_{Standard,JohnnyGold} + 0.7000000000000002 x_{Choice,JohnnyGold} - 1.2999999999999998 x_{Prime,JohnnyGold} - advertising - advertising2 $$"
      ],
      "text/plain": [
       "2.8 x[Standard,ScottishClub] + 1.7999999999999998 x[Choice,ScottishClub] - 0.20000000000000018 x[Prime,ScottishClub] + 1.7000000000000002 x[Standard,JohnnyGold] + 0.7000000000000002 x[Choice,JohnnyGold] - 1.2999999999999998 x[Prime,JohnnyGold] - advertising - advertising2"
      ]
     },
     "execution_count": 6,
     "metadata": {},
     "output_type": "execute_result"
    }
   ],
   "source": [
    "# formulate the objective function \n",
    "revenue = 6.80*sum(x[i, :ScottishClub] for i in raw_whiskey) + 5.70*sum(x[i, :JohnnyGold] for i in raw_whiskey)\n",
    "cost = 4.00*sum(x[:Standard, i] for i in blended_whiskey) + 5.00*sum(x[:Choice, i] for i in blended_whiskey) + 7.00*sum(x[:Prime, i] for i in blended_whiskey) + advertising + advertising2\n",
    "@objective(whiskey, Max, revenue - cost)"
   ]
  },
  {
   "cell_type": "code",
   "execution_count": 7,
   "metadata": {},
   "outputs": [
    {
     "name": "stdout",
     "output_type": "stream",
     "text": [
      "Presolving model\n",
      "9 rows, 8 cols, 26 nonzeros\n",
      "9 rows, 8 cols, 26 nonzeros\n",
      "Presolve : Reductions: rows 9(-0); columns 8(-0); elements 26(-0)\n",
      "Solving the presolved LP\n",
      "Using EKK dual simplex solver - serial\n",
      "  Iteration        Objective     Infeasibilities num(sum)\n",
      "          0    -1.1199987222e+01 Ph1: 7(10.8); Du: 4(11.2) 0s\n",
      "          8    -1.6133333333e+03 Pr: 0(0) 0s\n",
      "Solving the original LP from the solution after postsolve\n",
      "Model   status      : Optimal\n",
      "Simplex   iterations: 8\n",
      "Objective value     :  1.6133333333e+03\n",
      "HiGHS run time      :          0.00\n",
      "solution_summary(whiskey) = * Solver : HiGHS\n",
      "\n",
      "* Status\n",
      "  Termination status : OPTIMAL\n",
      "  Primal status      : FEASIBLE_POINT\n",
      "  Dual status        : FEASIBLE_POINT\n",
      "  Message from the solver:\n",
      "  \"kHighsModelStatusOptimal\"\n",
      "\n",
      "* Candidate solution\n",
      "  Objective value      : 1.61333e+03\n",
      "  Objective bound      : 1.61333e+03\n",
      "  Relative gap         : Inf\n",
      "  Dual objective value : 1.61333e+03\n",
      "\n",
      "* Work counters\n",
      "  Solve time (sec)   : 1.16395e-03\n",
      "  Simplex iterations : 8\n",
      "  Barrier iterations : 0\n",
      "  Node count         : -1\n",
      "\n"
     ]
    },
    {
     "data": {
      "text/plain": [
       "2-dimensional DenseAxisArray{Float64,2,...} with index sets:\n",
       "    Dimension 1, [:Standard, :Choice, :Prime]\n",
       "    Dimension 2, [:ScottishClub, :JohnnyGold]\n",
       "And data, a 3×2 Matrix{Float64}:\n",
       " 200.0  1000.0\n",
       " 200.0   416.667\n",
       " 600.0   250.0"
      ]
     },
     "execution_count": 7,
     "metadata": {},
     "output_type": "execute_result"
    }
   ],
   "source": [
    "# solving the model\n",
    "optimize!(whiskey);\n",
    "\n",
    "# outputs detailed information about the solution process\n",
    "@show solution_summary(whiskey);\n",
    "value.(x)"
   ]
  }
 ],
 "metadata": {
  "kernelspec": {
   "display_name": "Julia 1.7.3",
   "language": "julia",
   "name": "julia-1.7"
  },
  "language_info": {
   "file_extension": ".jl",
   "mimetype": "application/julia",
   "name": "julia",
   "version": "1.7.3"
  },
  "orig_nbformat": 4
 },
 "nbformat": 4,
 "nbformat_minor": 2
}
