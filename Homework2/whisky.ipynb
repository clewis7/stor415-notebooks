{
 "cells": [
  {
   "cell_type": "markdown",
   "metadata": {},
   "source": [
    "# Question 2"
   ]
  },
  {
   "cell_type": "markdown",
   "metadata": {},
   "source": [
    "Hackensack Blended Whiskey Company uses three grades of whiskey to make blended varieties. They do not produce their own whiskey, and instead purchase three varieties to make their blends: Standard, Choice, and Prime. These unblended grades can be used to make the following two brands of whiskey, with associated characteristics:\n",
    "\n",
    "- Scottish Club: Must contain at least 60% Prime and at most 20% Standard. Scottish Club sells for $6.80 per liter.\n",
    "- Johnny Gold: Must contain at least 15% Prime and at most 60% Standard. Johnny Gold sells for $5.70 per liter.\n",
    "\n",
    "The amount of available raw whiskey and their associated costs are:\n",
    "\n",
    "\n",
    "Hackensack doesn't want to produce more whiskey than it knows it can sell. It estimates its current demand for each type of blended whiskey as:\n",
    "\n",
    "\n",
    "Hackensack can increase its demand by advertising its blended whiskeys. For each dollar spent on advertising any type of its blended whiskeys, that type of whiskey's demand will increase by 1.25 liters.\n",
    "\n",
    "Formulat an LP to maximize the total profit (revenue minus cost)/"
   ]
  },
  {
   "cell_type": "markdown",
   "metadata": {},
   "source": []
  }
 ],
 "metadata": {
  "kernelspec": {
   "display_name": "Julia 1.7.3",
   "language": "julia",
   "name": "julia-1.7"
  },
  "language_info": {
   "name": "julia"
  },
  "orig_nbformat": 4
 },
 "nbformat": 4,
 "nbformat_minor": 2
}
