{
 "cells": [
  {
   "cell_type": "markdown",
   "metadata": {},
   "source": [
    "# Question 3"
   ]
  },
  {
   "cell_type": "markdown",
   "metadata": {},
   "source": [
    "The CRUD chemical plant produces as part of its production process a noxious compound called chemical X. Chemical X is highly toxic and needs to be disposed of properly. Fortunately, CRUD is linked by a pipe system to the FRESHAIR recycling plant that can safely reprocess chemical X. On any given day, the CRUD plant will produce the following amount of chemical X (the plant operates between 9am and 3pm only):\n",
    "\n",
    "| Time                   | 9-10AM | 10-11AM | 11AM-12PM | 12-1PM | 1-2PM | 2-3PM |\n",
    "|:----------------------:|:------:|:-------:|:---------:|:------:|:-----:|:-----:|\n",
    "| Chemical X (in liters) | 300    | 240     |  600      |  200   |  300  |  600  |\n",
    "\n",
    "Becuase of environmental regulation, at no point in time is the CRUD plant allowed to keep more than 1000 litres on site and no chemical X is allowed to be kept overnight. At the top of every hour, at most 650 litres of chemical X can be sent to the FRESHAIR recycling plant. The cost of recycling chemical X is different for every hour:\n",
    "\n",
    "| Time                   | 10AM   | 11AM    | 12PM      | 1PM    | 2PM   | 3PM   |\n",
    "|:----------------------:|:------:|:-------:|:---------:|:------:|:-----:|:-----:|\n",
    "| Chemical X (in liters) | 30     |  40     |  35       |  45    |  38   |  5 0  |\n",
    "\n",
    "You need to decide how much chemical to send from the CRUD plant to the FRESHAIR recycling plant at the top of each hour, so that you can minimize the total recycling cost but also meet all of the evironmental constraints. Formulate this problem as an LP."
   ]
  },
  {
   "cell_type": "code",
   "execution_count": 1,
   "metadata": {},
   "outputs": [
    {
     "data": {
      "text/plain": [
       "A JuMP Model\n",
       "Feasibility problem with:\n",
       "Variables: 0\n",
       "Model mode: AUTOMATIC\n",
       "CachingOptimizer state: EMPTY_OPTIMIZER\n",
       "Solver name: HiGHS"
      ]
     },
     "execution_count": 1,
     "metadata": {},
     "output_type": "execute_result"
    }
   ],
   "source": [
    "# declaring model\n",
    "using JuMP, HiGHS\n",
    "\n",
    "chemical = Model(HiGHS.Optimizer)"
   ]
  },
  {
   "cell_type": "code",
   "execution_count": 2,
   "metadata": {},
   "outputs": [
    {
     "data": {
      "text/plain": [
       "1×6 Matrix{Int64}:\n",
       " 30  40  35  45  38  50"
      ]
     },
     "execution_count": 2,
     "metadata": {},
     "output_type": "execute_result"
    }
   ],
   "source": [
    "# vector for amount of chemical X produced each hour\n",
    "production = [300 240 600 200 300 600]\n",
    "# vector for cost of sending chemical X each hour \n",
    "cost = [30 40 35 45 38 50]"
   ]
  },
  {
   "cell_type": "code",
   "execution_count": 3,
   "metadata": {},
   "outputs": [
    {
     "data": {
      "text/plain": [
       "6-element Vector{VariableRef}:\n",
       " sent[1]\n",
       " sent[2]\n",
       " sent[3]\n",
       " sent[4]\n",
       " sent[5]\n",
       " sent[6]"
      ]
     },
     "execution_count": 3,
     "metadata": {},
     "output_type": "execute_result"
    }
   ],
   "source": [
    "# declaring variable for current amount of chemical X at the end of each hour\n",
    "@variable(chemical, 1000 >= current[1:6] >= 0)\n",
    "# declaring variable for amount of chemical X sent to FRESHAIR\n",
    "@variable(chemical, 650 >= sent[1:6] >= 0)"
   ]
  },
  {
   "cell_type": "code",
   "execution_count": 4,
   "metadata": {},
   "outputs": [
    {
     "data": {
      "text/plain": [
       "6-element Vector{ConstraintRef{Model, MathOptInterface.ConstraintIndex{MathOptInterface.ScalarAffineFunction{Float64}, MathOptInterface.EqualTo{Float64}}, ScalarShape}}:\n",
       " flow[1] : -current[1] - sent[1] = -300.0\n",
       " flow[2] : -current[2] - sent[2] = -240.0\n",
       " flow[3] : -current[3] - sent[3] = -600.0\n",
       " flow[4] : -current[4] - sent[4] = -200.0\n",
       " flow[5] : -current[5] - sent[5] = -300.0\n",
       " flow[6] : -current[6] - sent[6] = -600.0"
      ]
     },
     "execution_count": 4,
     "metadata": {},
     "output_type": "execute_result"
    }
   ],
   "source": [
    "# constraints \n",
    "\n",
    "# at the end of the final hour, amount of chemical X must be 0\n",
    "@constraint(chemical, endcond, current[6] == 0)\n",
    "# conservation\n",
    "@constraint(chemical, flow[i in 1:6], production[i] - sent[i] == current[i])"
   ]
  },
  {
   "cell_type": "code",
   "execution_count": 6,
   "metadata": {},
   "outputs": [
    {
     "data": {
      "text/latex": [
       "$$ \\begin{aligned}\n",
       "\\min\\quad & 30 sent_{1} + 40 sent_{2} + 35 sent_{3} + 45 sent_{4} + 38 sent_{5} + 50 sent_{6}\\\\\n",
       "\\text{Subject to} \\quad & current_{6} = 0.0\\\\\n",
       " & -current_{1} - sent_{1} = -300.0\\\\\n",
       " & -current_{2} - sent_{2} = -240.0\\\\\n",
       " & -current_{3} - sent_{3} = -600.0\\\\\n",
       " & -current_{4} - sent_{4} = -200.0\\\\\n",
       " & -current_{5} - sent_{5} = -300.0\\\\\n",
       " & -current_{6} - sent_{6} = -600.0\\\\\n",
       " & current_{1} \\geq 0.0\\\\\n",
       " & current_{2} \\geq 0.0\\\\\n",
       " & current_{3} \\geq 0.0\\\\\n",
       " & current_{4} \\geq 0.0\\\\\n",
       " & current_{5} \\geq 0.0\\\\\n",
       " & current_{6} \\geq 0.0\\\\\n",
       " & sent_{1} \\geq 0.0\\\\\n",
       " & sent_{2} \\geq 0.0\\\\\n",
       " & sent_{3} \\geq 0.0\\\\\n",
       " & sent_{4} \\geq 0.0\\\\\n",
       " & sent_{5} \\geq 0.0\\\\\n",
       " & sent_{6} \\geq 0.0\\\\\n",
       " & current_{1} \\leq 1000.0\\\\\n",
       " & current_{2} \\leq 1000.0\\\\\n",
       " & current_{3} \\leq 1000.0\\\\\n",
       " & current_{4} \\leq 1000.0\\\\\n",
       " & current_{5} \\leq 1000.0\\\\\n",
       " & current_{6} \\leq 1000.0\\\\\n",
       " & sent_{1} \\leq 650.0\\\\\n",
       " & sent_{2} \\leq 650.0\\\\\n",
       " & sent_{3} \\leq 650.0\\\\\n",
       " & sent_{4} \\leq 650.0\\\\\n",
       " & sent_{5} \\leq 650.0\\\\\n",
       " & sent_{6} \\leq 650.0\\\\\n",
       "\\end{aligned} $$"
      ]
     },
     "metadata": {},
     "output_type": "display_data"
    }
   ],
   "source": [
    "# defining objective function \n",
    "@objective(chemical, Min, sum(cost[i]*sent[i] for i in 1:6))\n",
    "\n",
    "print(chemical)"
   ]
  },
  {
   "cell_type": "code",
   "execution_count": 7,
   "metadata": {},
   "outputs": [
    {
     "name": "stdout",
     "output_type": "stream",
     "text": [
      "Presolving model\n",
      "0 rows, 0 cols, 0 nonzeros\n",
      "0 rows, 0 cols, 0 nonzeros\n",
      "Presolve : Reductions: rows 0(-7); columns 0(-12); elements 0(-13) - Reduced to empty\n",
      "Solving the original LP from the solution after postsolve\n",
      "Model   status      : Optimal\n",
      "Objective value     :  3.0000000000e+04\n",
      "HiGHS run time      :          0.00\n",
      "solution_summary(chemical) = * Solver : HiGHS\n",
      "\n",
      "* Status\n",
      "  Termination status : OPTIMAL\n",
      "  Primal status      : FEASIBLE_POINT\n",
      "  Dual status        : FEASIBLE_POINT\n",
      "  Message from the solver:\n",
      "  \"kHighsModelStatusOptimal\"\n",
      "\n",
      "* Candidate solution\n",
      "  Objective value      : 3.00000e+04\n",
      "  Objective bound      : 0.00000e+00\n",
      "  Relative gap         : Inf\n",
      "  Dual objective value : 3.00000e+04\n",
      "\n",
      "* Work counters\n",
      "  Solve time (sec)   : 2.98404e-03\n",
      "  Simplex iterations : 0\n",
      "  Barrier iterations : 0\n",
      "  Node count         : -1\n",
      "\n"
     ]
    }
   ],
   "source": [
    "# solving the model\n",
    "optimize!(chemical);\n",
    "\n",
    "# outputs detailed information about the solution process\n",
    "@show solution_summary(chemical);"
   ]
  },
  {
   "cell_type": "code",
   "execution_count": null,
   "metadata": {},
   "outputs": [],
   "source": []
  }
 ],
 "metadata": {
  "kernelspec": {
   "display_name": "Julia 1.7.3",
   "language": "julia",
   "name": "julia-1.7"
  },
  "language_info": {
   "file_extension": ".jl",
   "mimetype": "application/julia",
   "name": "julia",
   "version": "1.7.3"
  },
  "orig_nbformat": 4
 },
 "nbformat": 4,
 "nbformat_minor": 2
}
