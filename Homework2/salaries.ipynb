{
 "cells": [
  {
   "cell_type": "markdown",
   "metadata": {},
   "source": [
    "# Question 1"
   ]
  },
  {
   "cell_type": "markdown",
   "metadata": {},
   "source": [
    "The director of Awesome Tech startup needs to decide what salaries to offer its employees for the coming year. In order to keep the employees satisfied, she needs to satisfy the following constraints:\n",
    "\n",
    "- Tom wants at least $30,000 or he will quit\n",
    "- Peter, Nina, and Samir each want to be paid at least $8000 more than Tom\n",
    "- Gary wants his salary to be at least as high as the combined salary of Tom and Perry\n",
    "- Linda wants her salary to be $500 more than Gary\n",
    "- The combined salary of Nina and Samir should be at least twice the combined salary of Tom and Peter\n",
    "- Bob's salary is at least as high as that of Peter and at least as high as that of Samir\n",
    "- The combined salary of Bob and Peter should be at least $75,000\n",
    "- Linda should not make more money than the combined salary of Bob and Tom \n",
    "\n",
    "Suppose that we divide the employees into two groups:\n",
    "- IT professionals: This group consists of Tom, Peter, Nina, and Samir\n",
    "- Customer Service representatives: This is the rest of the employees\n",
    "\n",
    "Instead of minimizing the original objective, we instead want to minimize:\n",
    "- the largest IT professional salary + the largest customer service representative salary\n",
    "\n",
    "The employees demands for salaries must still be satisfied. Note that this problem is a min-max problem and should be reformulated using the epigraph form discussed in class."
   ]
  },
  {
   "cell_type": "code",
   "execution_count": 1,
   "metadata": {},
   "outputs": [
    {
     "data": {
      "text/plain": [
       "A JuMP Model\n",
       "Feasibility problem with:\n",
       "Variables: 0\n",
       "Model mode: AUTOMATIC\n",
       "CachingOptimizer state: EMPTY_OPTIMIZER\n",
       "Solver name: HiGHS"
      ]
     },
     "execution_count": 1,
     "metadata": {},
     "output_type": "execute_result"
    }
   ],
   "source": [
    "using JuMP, HiGHS\n",
    "\n",
    "# defining model\n",
    "salaries = Model(HiGHS.Optimizer)"
   ]
  },
  {
   "cell_type": "code",
   "execution_count": 2,
   "metadata": {},
   "outputs": [
    {
     "data": {
      "text/latex": [
       "$$ highest\\_CustomerService $$"
      ],
      "text/plain": [
       "highest_CustomerService"
      ]
     },
     "execution_count": 2,
     "metadata": {},
     "output_type": "execute_result"
    }
   ],
   "source": [
    "# variables for each person's salaries \n",
    "@variable(salaries, Tom >= 0)\n",
    "@variable(salaries, Peter >= 0)\n",
    "@variable(salaries, Nina >= 0)\n",
    "@variable(salaries, Samir >= 0)\n",
    "@variable(salaries, Linda >= 0)\n",
    "@variable(salaries, Gary >= 0)\n",
    "@variable(salaries, Bob >= 0)\n",
    "\n",
    "# variables for min-max problem\n",
    "@variable(salaries, highest_IT >= 0)\n",
    "@variable(salaries, highest_CustomerService >= 0)"
   ]
  },
  {
   "cell_type": "code",
   "execution_count": 3,
   "metadata": {},
   "outputs": [
    {
     "data": {
      "text/latex": [
       "highest_CustomerServiceC3 : $ -Gary + highest\\_CustomerService \\geq 0.0 $"
      ],
      "text/plain": [
       "highest_CustomerServiceC3 : -Gary + highest_CustomerService ≥ 0.0"
      ]
     },
     "execution_count": 3,
     "metadata": {},
     "output_type": "execute_result"
    }
   ],
   "source": [
    "# constraints for the model\n",
    "@constraint(salaries, TomC, Tom >= 30000)\n",
    "@constraint(salaries, PeterC, Peter >= 8000 + Tom)\n",
    "@constraint(salaries, NinaC, Nina >= 8000 + Tom)\n",
    "@constraint(salaries, SamirC, Samir >= 8000 + Tom)\n",
    "@constraint(salaries, GaryC, Gary >= Peter + Tom)\n",
    "@constraint(salaries, LindaC, Linda == 500 + Gary)\n",
    "@constraint(salaries, NinaSamirC, Nina + Samir >= 2(Peter + Tom))\n",
    "@constraint(salaries, BobC, Bob >= Peter)\n",
    "@constraint(salaries, BobC2, Bob >= Samir)\n",
    "@constraint(salaries, BobPeterC, Bob + Peter >= 75000)\n",
    "@constraint(salaries, LindaC2, Linda <= Bob + Tom)\n",
    "\n",
    "@constraint(salaries, highest_ITC, highest_IT >= Tom)\n",
    "@constraint(salaries, highest_IT2, highest_IT >= Peter)\n",
    "@constraint(salaries, highest_ITC3, highest_IT >= Nina)\n",
    "@constraint(salaries, highest_ITC4, highest_IT >= Samir)\n",
    "@constraint(salaries, highest_CustomerServiceC, highest_CustomerService >= Linda)\n",
    "@constraint(salaries, highest_CustomerServiceC2, highest_CustomerService >= Bob)\n",
    "@constraint(salaries, highest_CustomerServiceC3, highest_CustomerService >= Gary)"
   ]
  },
  {
   "cell_type": "code",
   "execution_count": 4,
   "metadata": {},
   "outputs": [
    {
     "data": {
      "text/latex": [
       "$$ highest\\_CustomerService + highest\\_IT $$"
      ],
      "text/plain": [
       "highest_CustomerService + highest_IT"
      ]
     },
     "execution_count": 4,
     "metadata": {},
     "output_type": "execute_result"
    }
   ],
   "source": [
    "# formulate the objective function \n",
    "@objective(salaries, Min, highest_CustomerService + highest_IT)"
   ]
  },
  {
   "cell_type": "code",
   "execution_count": 5,
   "metadata": {},
   "outputs": [
    {
     "name": "stdout",
     "output_type": "stream",
     "text": [
      "Presolving model\n",
      "16 rows, 8 cols, 36 nonzeros\n",
      "13 rows, 5 cols, 30 nonzeros\n",
      "6 rows, 4 cols, 13 nonzeros\n",
      "3 rows, 3 cols, 6 nonzeros\n",
      "Presolve : Reductions: rows 3(-15); columns 3(-6); elements 6(-33)\n",
      "Solving the presolved LP\n",
      "Using EKK dual simplex solver - serial\n",
      "  Iteration        Objective     Infeasibilities num(sum)\n",
      "          0     1.0650020661e+05 Pr: 1(60000) 0s\n",
      "          2     1.3650000000e+05 Pr: 0(0) 0s\n",
      "Solving the original LP from the solution after postsolve\n",
      "Model   status      : Optimal\n",
      "Simplex   iterations: 2\n",
      "Objective value     :  1.3650000000e+05\n",
      "HiGHS run time      :          0.02\n",
      "solution_summary(salaries) = * Solver : HiGHS\n",
      "\n",
      "* Status\n",
      "  Termination status : OPTIMAL\n",
      "  Primal status      : FEASIBLE_POINT\n",
      "  Dual status        : FEASIBLE_POINT\n",
      "  Message from the solver:\n",
      "  \"kHighsModelStatusOptimal\"\n",
      "\n",
      "* Candidate solution\n",
      "  Objective value      : 1.36500e+05\n",
      "  Objective bound      : 0.00000e+00\n",
      "  Relative gap         : Inf\n",
      "  Dual objective value : 1.36500e+05\n",
      "\n",
      "* Work counters\n",
      "  Solve time (sec)   : 1.66457e-02\n",
      "  Simplex iterations : 2\n",
      "  Barrier iterations : 0\n",
      "  Node count         : -1\n",
      "\n"
     ]
    }
   ],
   "source": [
    "# solve the optimization problem\n",
    "optimize!(salaries);\n",
    "\n",
    "# outputs detailed information about the solution process\n",
    "@show solution_summary(salaries);"
   ]
  },
  {
   "cell_type": "code",
   "execution_count": null,
   "metadata": {},
   "outputs": [],
   "source": []
  }
 ],
 "metadata": {
  "kernelspec": {
   "display_name": "Julia 1.7.3",
   "language": "julia",
   "name": "julia-1.7"
  },
  "language_info": {
   "file_extension": ".jl",
   "mimetype": "application/julia",
   "name": "julia",
   "version": "1.7.3"
  },
  "orig_nbformat": 4,
  "vscode": {
   "interpreter": {
    "hash": "949777d72b0d2535278d3dc13498b2535136f6dfe0678499012e853ee9abcab1"
   }
  }
 },
 "nbformat": 4,
 "nbformat_minor": 2
}
