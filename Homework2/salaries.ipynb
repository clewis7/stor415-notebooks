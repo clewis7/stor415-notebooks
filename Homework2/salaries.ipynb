{
 "cells": [
  {
   "cell_type": "markdown",
   "metadata": {},
   "source": [
    "# Question 1"
   ]
  },
  {
   "cell_type": "markdown",
   "metadata": {},
   "source": [
    "The director of Awesome Tech startup needs to decide what salaries to offer its employees for the coming year. In order to keep the employees satisfied, she needs to satisfy the following constraints:\n",
    "\n",
    "- Tom wants at least $30,000 or he will quit\n",
    "- Peter, Nina, and Samir each want to be paid at least $8000 more than Tom\n",
    "- Gary wants his salary to be at least as high as the combined salary of Tom and Perry\n",
    "- Linda wants her salary to be $500 more than Gary\n",
    "- The combined salary of Nina and Samir should be at least twice the combined salary of Tom and Peter\n",
    "- Bob's salary is at least as high as that of Peter and at least as high as that of Samir\n",
    "- The combined salary of Bob and Peter should be at least $75,000\n",
    "- Linda should not make more money than the combined salary of Bob and Tom \n",
    "\n",
    "Suppose that we divide the employees into two groups:\n",
    "- IT professionals: This group consists of Tom, Peter, Nina, and Samir\n",
    "- Customer Service representatives: This is the rest of the employees\n",
    "\n",
    "Instead of minimizing the original objective, we instead want to minimize:\n",
    "- the largest IT professional salary + the largest customer service representative salary\n",
    "\n",
    "The employees demands for salaries must still be satisfied. Note that this problem is a min-max problem and should be reformulated using the epigraph form discussed in class."
   ]
  },
  {
   "cell_type": "markdown",
   "metadata": {},
   "source": []
  }
 ],
 "metadata": {
  "kernelspec": {
   "display_name": "Julia 1.7.3",
   "language": "julia",
   "name": "julia-1.7"
  },
  "language_info": {
   "name": "julia",
   "version": "3.8.5"
  },
  "orig_nbformat": 4,
  "vscode": {
   "interpreter": {
    "hash": "949777d72b0d2535278d3dc13498b2535136f6dfe0678499012e853ee9abcab1"
   }
  }
 },
 "nbformat": 4,
 "nbformat_minor": 2
}
