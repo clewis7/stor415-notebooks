{
 "cells": [
  {
   "cell_type": "markdown",
   "metadata": {},
   "source": [
    "# Question 3"
   ]
  },
  {
   "cell_type": "markdown",
   "metadata": {},
   "source": [
    "Oilco has oil fields in Los Angeles and San Diego. The Los Angeles field can produce 400,000 barrels\n",
    "per day and the San Diego field can produce 500,000 barrels per day.\n",
    "\n",
    "Oil is sent from the fields to a refinery, in either Dallas or Houston (assume each refinery has unlimited\n",
    "capacity). To refine 100,000 barrels costs $700 at Dallas and $900 at Houston.\n",
    "\n",
    "Refined oil is shipped to customers in New York and Chicago. New York customers require 300,000\n",
    "barrels per day and Chicago customers require 400,000 barrels per day.\n",
    "\n",
    "The costs of shipping 100,000 barrels of oil (refined or unrefined) between cities are shown below.\n",
    "\n",
    "|From/To($) | Dallas | Houston | New York | Chicago |\n",
    "|:---------:|:------:|:-------:|:--------:|:-------:|\n",
    "|Los Angels |300     |   110   |    -     |     -   |\n",
    "|San Diego  |420     |   100   |    -     |    -    |\n",
    "|Dallas     |-       |   -     |   450    |   550   |\n",
    "|Houston    |-       |   -     |   470    | 530     |"
   ]
  },
  {
   "cell_type": "code",
   "execution_count": 1,
   "metadata": {},
   "outputs": [
    {
     "data": {
      "text/plain": [
       "A JuMP Model\n",
       "Feasibility problem with:\n",
       "Variables: 0\n",
       "Model mode: AUTOMATIC\n",
       "CachingOptimizer state: EMPTY_OPTIMIZER\n",
       "Solver name: HiGHS"
      ]
     },
     "execution_count": 1,
     "metadata": {},
     "output_type": "execute_result"
    }
   ],
   "source": [
    "using JuMP, HiGHS\n",
    "\n",
    "# defining model\n",
    "oilco = Model(HiGHS.Optimizer)"
   ]
  },
  {
   "cell_type": "code",
   "execution_count": 2,
   "metadata": {},
   "outputs": [
    {
     "data": {
      "text/plain": [
       "7×12 Matrix{Int64}:\n",
       "  1   1   1   0   0   0   0   0   0   0   0   0\n",
       "  0   0   0   1   1   1   0   0   0   0   0   0\n",
       " -1   0   0  -1   0   0   1   1   1   0   0   0\n",
       "  0  -1   0   0  -1   0   0   0   0   1   1   1\n",
       "  0   0   0   0   0   0  -1   0   0  -1   0   0\n",
       "  0   0   0   0   0   0   0  -1   0   0  -1   0\n",
       "  0   0  -1   0   0  -1   0   0  -1   0   0  -1"
      ]
     },
     "execution_count": 2,
     "metadata": {},
     "output_type": "execute_result"
    }
   ],
   "source": [
    "numedges = 12\n",
    "\n",
    "#Define the incidence matrix A for our fully connected network\n",
    "A = [1  1  1  0  0  0  0  0  0  0  0  0 \n",
    "     0  0  0  1  1  1  0  0  0  0  0  0 \n",
    "    -1  0  0 -1  0  0  1  1  1  0  0  0 \n",
    "     0 -1  0  0 -1  0  0  0  0  1  1  1\n",
    "     0  0  0  0  0  0 -1  0  0 -1  0  0\n",
    "     0  0  0  0  0  0  0 -1  0  0 -1  0 \n",
    "     0  0 -1  0  0 -1  0  0 -1  0  0 -1  \n",
    "   ]\n",
    "\n",
    "#Supply (first 2), relay (middle 2), demand (last 3)\n",
    "b = [400000, 500000, 0, 0, -300000, -400000, -200000]\n",
    "\n",
    "# costs of shipping per 100000 barrels\n",
    "costs = [300 110 0 420 100 0 1150 1250 0 1370 1430 0];\n",
    "\n",
    "A"
   ]
  },
  {
   "cell_type": "code",
   "execution_count": 3,
   "metadata": {},
   "outputs": [
    {
     "data": {
      "text/latex": [
       "$$ \\begin{aligned}\n",
       "\\min\\quad & 300 x_{1} + 110 x_{2} + 420 x_{4} + 100 x_{5} + 1150 x_{7} + 1250 x_{8} + 1370 x_{10} + 1430 x_{11}\\\\\n",
       "\\text{Subject to} \\quad & x_{1} + x_{2} + x_{3} = 400000.0\\\\\n",
       " & x_{4} + x_{5} + x_{6} = 500000.0\\\\\n",
       " & -x_{1} - x_{4} + x_{7} + x_{8} + x_{9} = 0.0\\\\\n",
       " & -x_{2} - x_{5} + x_{10} + x_{11} + x_{12} = 0.0\\\\\n",
       " & -x_{7} - x_{10} = -300000.0\\\\\n",
       " & -x_{8} - x_{11} = -400000.0\\\\\n",
       " & -x_{3} - x_{6} - x_{9} - x_{12} = -200000.0\\\\\n",
       " & x_{1} \\geq 0.0\\\\\n",
       " & x_{2} \\geq 0.0\\\\\n",
       " & x_{3} \\geq 0.0\\\\\n",
       " & x_{4} \\geq 0.0\\\\\n",
       " & x_{5} \\geq 0.0\\\\\n",
       " & x_{6} \\geq 0.0\\\\\n",
       " & x_{7} \\geq 0.0\\\\\n",
       " & x_{8} \\geq 0.0\\\\\n",
       " & x_{9} \\geq 0.0\\\\\n",
       " & x_{10} \\geq 0.0\\\\\n",
       " & x_{11} \\geq 0.0\\\\\n",
       " & x_{12} \\geq 0.0\\\\\n",
       "\\end{aligned} $$"
      ]
     },
     "metadata": {},
     "output_type": "display_data"
    }
   ],
   "source": [
    "@variable(oilco, x[1:numedges] >= 0)\n",
    "\n",
    "@constraint(oilco, supplyanddemand, A*x .== b)\n",
    "\n",
    "@objective(oilco, Min, sum(costs[i]*x[i] for i in 1:numedges))\n",
    "\n",
    "print(oilco)"
   ]
  },
  {
   "cell_type": "code",
   "execution_count": 4,
   "metadata": {},
   "outputs": [
    {
     "name": "stdout",
     "output_type": "stream",
     "text": [
      "Presolving model\n",
      "5 rows, 10 cols, 20 nonzeros\n",
      "4 rows, 10 cols, 17 nonzeros\n",
      "Presolve : Reductions: rows 4(-3); columns 10(-2); elements 17(-7)\n",
      "Solving the presolved LP\n",
      "Using EKK dual simplex solver - serial\n",
      "  Iteration        Objective     Infeasibilities num(sum)\n",
      "          0     8.4500000000e+08 Pr: 3(1.4e+06) 0s\n",
      "          5     1.0470000000e+09 Pr: 0(0) 0s\n",
      "Solving the original LP from the solution after postsolve\n",
      "Model   status      : Optimal\n",
      "Simplex   iterations: 5\n",
      "Objective value     :  1.0470000000e+09\n",
      "HiGHS run time      :          0.00\n"
     ]
    }
   ],
   "source": [
    "optimize!(oilco)"
   ]
  },
  {
   "cell_type": "code",
   "execution_count": 5,
   "metadata": {},
   "outputs": [
    {
     "data": {
      "text/plain": [
       "12-element Vector{Float64}:\n",
       " 300000.0\n",
       "      0.0\n",
       " 100000.0\n",
       "      0.0\n",
       " 400000.0\n",
       " 100000.0\n",
       " 300000.0\n",
       "      0.0\n",
       "      0.0\n",
       "      0.0\n",
       " 400000.0\n",
       "      0.0"
      ]
     },
     "execution_count": 5,
     "metadata": {},
     "output_type": "execute_result"
    }
   ],
   "source": [
    "value.(x)"
   ]
  }
 ],
 "metadata": {
  "kernelspec": {
   "display_name": "Julia 1.7.3",
   "language": "julia",
   "name": "julia-1.7"
  },
  "language_info": {
   "file_extension": ".jl",
   "mimetype": "application/julia",
   "name": "julia",
   "version": "1.7.3"
  },
  "orig_nbformat": 4
 },
 "nbformat": 4,
 "nbformat_minor": 2
}
