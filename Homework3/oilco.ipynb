{
 "cells": [
  {
   "cell_type": "markdown",
   "metadata": {},
   "source": [
    "# Question 3"
   ]
  },
  {
   "cell_type": "markdown",
   "metadata": {},
   "source": [
    "Oilco has oil fields in Los Angeles and San Diego. The Los Angeles field can produce 400,000 barrels\n",
    "per day and the San Diego field can produce 500,000 barrels per day.\n",
    "\n",
    "Oil is sent from the fields to a refinery, in either Dallas or Houston (assume each refinery has unlimited\n",
    "capacity). To refine 100,000 barrels costs $700 at Dallas and $900 at Houston.\n",
    "\n",
    "Refined oil is shipped to customers in New York and Chicago. New York customers require 300,000\n",
    "barrels per day and Chicago customers require 400,000 barrels per day.\n",
    "\n",
    "The costs of shipping 100,000 barrels of oil (refined or unrefined) between cities are shown below.\n",
    "\n",
    "|From/To($) | Dallas | Houston | New York | Chicago |\n",
    "|:---------:|:------:|:-------:|:--------:|:-------:|\n",
    "|Los Angels |300     |   110   |    -     |     -   |\n",
    "|San Diego  |420     |   100   |    -     |    -    |\n",
    "|Dallas     |-       |   -     |   450    |   550   |\n",
    "|Houston    |-       |   -     |   470    | 530     |"
   ]
  },
  {
   "cell_type": "code",
   "execution_count": 1,
   "metadata": {},
   "outputs": [
    {
     "data": {
      "text/plain": [
       "A JuMP Model\n",
       "Feasibility problem with:\n",
       "Variables: 0\n",
       "Model mode: AUTOMATIC\n",
       "CachingOptimizer state: EMPTY_OPTIMIZER\n",
       "Solver name: HiGHS"
      ]
     },
     "execution_count": 1,
     "metadata": {},
     "output_type": "execute_result"
    }
   ],
   "source": [
    "using JuMP, HiGHS\n",
    "\n",
    "# defining model\n",
    "oilco = Model(HiGHS.Optimizer)"
   ]
  },
  {
   "cell_type": "code",
   "execution_count": 2,
   "metadata": {},
   "outputs": [
    {
     "data": {
      "text/plain": [
       "6×8 Matrix{Int64}:\n",
       "  1   1   0   0   0   0   0   0\n",
       "  0   0   1   1   0   0   0   0\n",
       " -1   0  -1   0   1   1   0   0\n",
       "  0  -1   0  -1   0   0   1   1\n",
       "  0   0   0   0  -1   0  -1   0\n",
       "  0   0   0   0   0  -1   0  -1"
      ]
     },
     "execution_count": 2,
     "metadata": {},
     "output_type": "execute_result"
    }
   ],
   "source": [
    "numfields = 2\n",
    "numreceivers = 4\n",
    "numedges = numfields*numreceivers\n",
    "\n",
    "#Define the incidence matrix A for our fully connected network\n",
    "#Edges go from the fields (first 2 rows) to the refineries (next 2 rows) to the customers (last 2 rows)\n",
    "#Edges go from the power plants (first 3 rows) to the cities (last 4 rows)\n",
    "#Edge 1 is column 1, edge 2 is column 2, etc.\n",
    "A = [1  1  0  0  0  0  0  0\n",
    "     0  0  1  1  0  0  0  0\n",
    "    -1  0 -1  0  1  1  0  0 \n",
    "     0 -1  0 -1  0  0  1  1 \n",
    "     0  0  0  0 -1  0 -1  0\n",
    "     0  0  0  0  0 -1  0 -1]\n",
    "\n",
    "#Supply (first 2), relay (middle 2), demand (last 2)\n",
    "b = [400000, 500000, 0, 0, -300000, -400000]\n",
    "\n",
    "# costs of shipping per 100000 barrels\n",
    "costs = [300 110 420 100 450 550 470 530];\n",
    "\n",
    "A"
   ]
  },
  {
   "cell_type": "code",
   "execution_count": 3,
   "metadata": {},
   "outputs": [
    {
     "data": {
      "text/latex": [
       "$$ \\begin{aligned}\n",
       "\\min\\quad & 300 x_{1} + 110 x_{2} + 420 x_{3} + 100 x_{4} + 450 x_{5} + 550 x_{6} + 470 x_{7} + 530 x_{8}\\\\\n",
       "\\text{Subject to} \\quad & x_{1} + x_{2} = 400000.0\\\\\n",
       " & x_{3} + x_{4} = 500000.0\\\\\n",
       " & -x_{1} - x_{3} + x_{5} + x_{6} = 0.0\\\\\n",
       " & -x_{2} - x_{4} + x_{7} + x_{8} = 0.0\\\\\n",
       " & -x_{5} - x_{7} = -300000.0\\\\\n",
       " & -x_{6} - x_{8} = -400000.0\\\\\n",
       " & x_{1} \\geq 0.0\\\\\n",
       " & x_{2} \\geq 0.0\\\\\n",
       " & x_{3} \\geq 0.0\\\\\n",
       " & x_{4} \\geq 0.0\\\\\n",
       " & x_{5} \\geq 0.0\\\\\n",
       " & x_{6} \\geq 0.0\\\\\n",
       " & x_{7} \\geq 0.0\\\\\n",
       " & x_{8} \\geq 0.0\\\\\n",
       "\\end{aligned} $$"
      ]
     },
     "metadata": {},
     "output_type": "display_data"
    }
   ],
   "source": [
    "@variable(oilco, x[1:numedges] >= 0)\n",
    "\n",
    "@constraint(oilco, supplyanddemand, A*x .== b)\n",
    "\n",
    "@objective(oilco, Min, sum(costs[i]*x[i] for i in 1:numedges))\n",
    "\n",
    "print(oilco)"
   ]
  },
  {
   "cell_type": "code",
   "execution_count": 4,
   "metadata": {},
   "outputs": [
    {
     "name": "stdout",
     "output_type": "stream",
     "text": [
      "Presolving model\n",
      "2 rows, 4 cols, 8 nonzeros\n",
      "Problem status detected on presolve: Infeasible\n",
      "Model   status      : Infeasible\n",
      "Objective value     :  0.0000000000e+00\n",
      "HiGHS run time      :          0.00\n",
      "ERROR:   No invertible representation for getDualRay\n"
     ]
    }
   ],
   "source": [
    "optimize!(oilco)"
   ]
  }
 ],
 "metadata": {
  "kernelspec": {
   "display_name": "Julia 1.7.3",
   "language": "julia",
   "name": "julia-1.7"
  },
  "language_info": {
   "file_extension": ".jl",
   "mimetype": "application/julia",
   "name": "julia",
   "version": "1.7.3"
  },
  "orig_nbformat": 4
 },
 "nbformat": 4,
 "nbformat_minor": 2
}
