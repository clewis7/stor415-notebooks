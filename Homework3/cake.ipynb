{
 "cells": [
  {
   "cell_type": "markdown",
   "metadata": {},
   "source": [
    "# Question 1"
   ]
  },
  {
   "cell_type": "markdown",
   "metadata": {},
   "source": [
    "Paul Hollywood bakes two types of cakes: cheesecakes and black forest cakes.\n",
    "During any month, he can bake at most 65 cakes in total. The costs per cake and the demands for cakes,\n",
    "which must be met in time, are given in the following table.\n",
    "\n",
    "|             | Month 1|     Month 1 | Month 2|    Month 2  | Month 3|    Month 3  |\n",
    "|:-----------:|:------:|:-----------:|:------:|:-----------:|:------:|:-----------:|\n",
    "| Item        | Demand | Cost/cake($)| Demand | Cost/cake($)| Demand | Cost/cake($)|\n",
    "| Cheesecake  | 40     |   3.00      | 30     |   3.40      | 20     |   3.80      |\n",
    "| Black Forest| 20     |   2.50      | 30     |   2.80      | 10     |   3.40      |\n",
    "\n",
    "We assume that cakes baked during a month can be used to meet demand for this month. At the end of\n",
    "each month (after all cakes have been baked and the current month’s demand has been satisfied), a holding\n",
    "cost of 50 cents per cheesecake and 40 cents per black forest cake is incurred for cakes left in inventory.\n",
    "Those cakes can be used to satisfy future demand."
   ]
  },
  {
   "cell_type": "code",
   "execution_count": 1,
   "metadata": {},
   "outputs": [
    {
     "data": {
      "text/plain": [
       "A JuMP Model\n",
       "Feasibility problem with:\n",
       "Variables: 0\n",
       "Model mode: AUTOMATIC\n",
       "CachingOptimizer state: EMPTY_OPTIMIZER\n",
       "Solver name: HiGHS"
      ]
     },
     "execution_count": 1,
     "metadata": {},
     "output_type": "execute_result"
    }
   ],
   "source": [
    "using JuMP, HiGHS\n",
    "\n",
    "# defining model\n",
    "cake_model = Model(HiGHS.Optimizer)"
   ]
  },
  {
   "cell_type": "code",
   "execution_count": 2,
   "metadata": {},
   "outputs": [
    {
     "data": {
      "text/plain": [
       "1:3"
      ]
     },
     "execution_count": 2,
     "metadata": {},
     "output_type": "execute_result"
    }
   ],
   "source": [
    "# defining vectors\n",
    "cakes = [:cheesecake, :blackforest]\n",
    "months = 1:3"
   ]
  },
  {
   "cell_type": "code",
   "execution_count": 3,
   "metadata": {},
   "outputs": [
    {
     "data": {
      "text/plain": [
       "2-dimensional DenseAxisArray{VariableRef,2,...} with index sets:\n",
       "    Dimension 1, [:cheesecake, :blackforest]\n",
       "    Dimension 2, 1:3\n",
       "And data, a 2×3 Matrix{VariableRef}:\n",
       " h[cheesecake,1]   h[cheesecake,2]   h[cheesecake,3]\n",
       " h[blackforest,1]  h[blackforest,2]  h[blackforest,3]"
      ]
     },
     "execution_count": 3,
     "metadata": {},
     "output_type": "execute_result"
    }
   ],
   "source": [
    "# dictionary to store the holding costs \n",
    "holding = [0.50, 0.40]\n",
    "holding_costs = Dict(zip(cakes, holding))\n",
    "\n",
    "using NamedArrays\n",
    "\n",
    "# NamedArray for demands and production costs \n",
    "demand_mat = [ 40 30 20; 20 30 10 ]\n",
    "demands = NamedArray( demand_mat, (cakes, months), (\"cake\", \"month\") )\n",
    "\n",
    "prod_mat = [3.00 3.40 3.80; 2.50 2.80 3.40]\n",
    "production_costs = NamedArray(prod_mat, (cakes, months), (\"cake\", \"month\"))\n",
    "\n",
    "# variables for number of cakes to make each month\n",
    "@variable(cake_model, x[cakes, months] >= 0)\n",
    "\n",
    "# variable to represent the numver of cakes left in inventory at the end of each month\n",
    "@variable(cake_model, h[cakes, months] >= 0)"
   ]
  },
  {
   "cell_type": "code",
   "execution_count": 4,
   "metadata": {},
   "outputs": [
    {
     "data": {
      "text/latex": [
       "monthly_demand6 : $ x_{blackforest,3} + h_{blackforest,2} - h_{blackforest,3} = 10.0 $"
      ],
      "text/plain": [
       "monthly_demand6 : x[blackforest,3] + h[blackforest,2] - h[blackforest,3] = 10.0"
      ]
     },
     "execution_count": 4,
     "metadata": {},
     "output_type": "execute_result"
    }
   ],
   "source": [
    "# defining constraints\n",
    "\n",
    "# number of cakes produced in any month must be less than 65\n",
    "@constraint(cake_model, total_cakes[i in months], sum(x[j, i] for j in cakes) <= 65)\n",
    "\n",
    "# originally no cakes in inventory, cakes made should equal inventory plus amount leftover\n",
    "@constraint(cake_model, monthly_demand1, x[:cheesecake, 1] == demands[1, 1] + h[:cheesecake, 1])\n",
    "@constraint(cake_model, monthly_demand2, x[:blackforest, 1] == demands[2, 1] + h[:blackforest, 1])\n",
    "\n",
    "# conservation that the cakes produced plus the previous cakes should equal the demand plus the leftover cakes\n",
    "@constraint(cake_model, monthly_demand3, h[:cheesecake, 1] + x[:cheesecake, 2] == demands[1, 2] + h[:cheesecake, 2])\n",
    "@constraint(cake_model, monthly_demand4, h[:blackforest, 1] + x[:blackforest, 2] == demands[2, 2] + h[:blackforest, 2])\n",
    "@constraint(cake_model, monthly_demand5, h[:cheesecake, 2] + x[:cheesecake, 3] == demands[1, 3] + h[:cheesecake, 3])\n",
    "@constraint(cake_model, monthly_demand6, h[:blackforest, 2] + x[:blackforest, 3] == demands[2, 3] + h[:blackforest, 3])\n"
   ]
  },
  {
   "cell_type": "code",
   "execution_count": 17,
   "metadata": {},
   "outputs": [
    {
     "data": {
      "text/latex": [
       "$$ \\begin{aligned}\n",
       "\\min\\quad & 3 x_{cheesecake,1} + 2.5 x_{blackforest,1} + 0.4 h_{cheesecake,1} + 0.5 h_{blackforest,1} + 3.4 x_{cheesecake,2} + 2.8 x_{blackforest,2} + 0.4 h_{cheesecake,2} + 0.5 h_{blackforest,2} + 3.8 x_{cheesecake,3} + 3.4 x_{blackforest,3} + 0.4 h_{cheesecake,3} + 0.5 h_{blackforest,3}\\\\\n",
       "\\text{Subject to} \\quad & x_{cheesecake,1} - h_{cheesecake,1} = 40.0\\\\\n",
       " & x_{blackforest,1} - h_{blackforest,1} = 20.0\\\\\n",
       " & x_{cheesecake,2} + h_{cheesecake,1} - h_{cheesecake,2} = 30.0\\\\\n",
       " & x_{blackforest,2} + h_{blackforest,1} - h_{blackforest,2} = 30.0\\\\\n",
       " & x_{cheesecake,3} + h_{cheesecake,2} - h_{cheesecake,3} = 20.0\\\\\n",
       " & x_{blackforest,3} + h_{blackforest,2} - h_{blackforest,3} = 10.0\\\\\n",
       " & x_{cheesecake,1} + x_{blackforest,1} \\leq 65.0\\\\\n",
       " & x_{cheesecake,2} + x_{blackforest,2} \\leq 65.0\\\\\n",
       " & x_{cheesecake,3} + x_{blackforest,3} \\leq 65.0\\\\\n",
       " & x_{cheesecake,1} \\geq 0.0\\\\\n",
       " & x_{blackforest,1} \\geq 0.0\\\\\n",
       " & x_{cheesecake,2} \\geq 0.0\\\\\n",
       " & x_{blackforest,2} \\geq 0.0\\\\\n",
       " & x_{cheesecake,3} \\geq 0.0\\\\\n",
       " & x_{blackforest,3} \\geq 0.0\\\\\n",
       " & h_{cheesecake,1} \\geq 0.0\\\\\n",
       " & h_{blackforest,1} \\geq 0.0\\\\\n",
       " & h_{cheesecake,2} \\geq 0.0\\\\\n",
       " & h_{blackforest,2} \\geq 0.0\\\\\n",
       " & h_{cheesecake,3} \\geq 0.0\\\\\n",
       " & h_{blackforest,3} \\geq 0.0\\\\\n",
       "\\end{aligned} $$"
      ]
     },
     "metadata": {},
     "output_type": "display_data"
    }
   ],
   "source": [
    "# objective function \n",
    "month1 = (x[:cheesecake, 1] * 3) + (x[:blackforest, 1] * 2.50) + (h[:cheesecake, 1] * 0.4) + (h[:blackforest, 1] * 0.5)\n",
    "month2 = (x[:cheesecake, 2] * 3.4) + (x[:blackforest, 2] * 2.80) + (h[:cheesecake, 2] * 0.4) + (h[:blackforest, 2] * 0.5)\n",
    "month3 = (x[:cheesecake, 3] * 3.8) + (x[:blackforest, 3] * 3.4) + (h[:cheesecake, 3] * 0.4) + (h[:blackforest, 3] * 0.5)\n",
    "\n",
    "@objective(cake_model, Min, month1 + month2 + month3)\n",
    "\n",
    "print(cake_model)"
   ]
  },
  {
   "cell_type": "code",
   "execution_count": 18,
   "metadata": {},
   "outputs": [
    {
     "name": "stdout",
     "output_type": "stream",
     "text": [
      "Solving LP without presolve or with basis\n",
      "Using EKK dual simplex solver - serial\n",
      "  Iteration        Objective     Infeasibilities num(sum)\n",
      "          0    -1.0000036897e-01 Ph1: 5(7); Du: 2(0.1) 0s\n",
      "          4     4.6500000000e+02 Pr: 0(0) 0s\n",
      "Model   status      : Optimal\n",
      "Simplex   iterations: 4\n",
      "Objective value     :  4.6500000000e+02\n",
      "HiGHS run time      :          0.01\n"
     ]
    }
   ],
   "source": [
    "optimize!(cake_model)"
   ]
  }
 ],
 "metadata": {
  "kernelspec": {
   "display_name": "Julia 1.7.3",
   "language": "julia",
   "name": "julia-1.7"
  },
  "language_info": {
   "file_extension": ".jl",
   "mimetype": "application/julia",
   "name": "julia",
   "version": "1.7.3"
  },
  "orig_nbformat": 4,
  "vscode": {
   "interpreter": {
    "hash": "949777d72b0d2535278d3dc13498b2535136f6dfe0678499012e853ee9abcab1"
   }
  }
 },
 "nbformat": 4,
 "nbformat_minor": 2
}
