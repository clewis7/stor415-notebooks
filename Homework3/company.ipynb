{
 "cells": [
  {
   "cell_type": "markdown",
   "metadata": {},
   "source": [
    "A shipping company supplies goods to three customers, who require 40, 50 and\n",
    "40 units respectively. The company has three warehouses, each of which has 30 units available. The costs of shipping 1 unit from each warehouse to each customer are shown in the table below.\n",
    "\n",
    "|From/To     | Customer 1 | Customer 2 | Customer 3 |\n",
    "|:----------:|:----------:|:----------:|:----------:|\n",
    "|Warehouse 1 |$15         |$35         |$25         |\n",
    "|Warehouse 2 |$10         |$50         |$40         |\n",
    "|Warehouse 3 |$20         |$40         |$30         |\n",
    "\n",
    "There is a penalty for unmet demand: With customer 1, a penalty cost of $70 per unit is incurred; with customer 2, $75 per unit; and with customer 3, $65 per unit. The company’s goal is to minimize the total cost."
   ]
  },
  {
   "cell_type": "code",
   "execution_count": 1,
   "metadata": {},
   "outputs": [
    {
     "data": {
      "text/plain": [
       "A JuMP Model\n",
       "Feasibility problem with:\n",
       "Variables: 0\n",
       "Model mode: AUTOMATIC\n",
       "CachingOptimizer state: EMPTY_OPTIMIZER\n",
       "Solver name: HiGHS"
      ]
     },
     "execution_count": 1,
     "metadata": {},
     "output_type": "execute_result"
    }
   ],
   "source": [
    "using JuMP, HiGHS\n",
    "\n",
    "# defining model\n",
    "company = Model(HiGHS.Optimizer)"
   ]
  },
  {
   "cell_type": "code",
   "execution_count": 3,
   "metadata": {},
   "outputs": [
    {
     "data": {
      "text/plain": [
       "3"
      ]
     },
     "execution_count": 3,
     "metadata": {},
     "output_type": "execute_result"
    }
   ],
   "source": [
    "costs = [15 35 35;\n",
    "        10 50 40;\n",
    "        20 40 30;\n",
    "        70 75 65]\n",
    "demand = [40 50 40]\n",
    "supply = [30 30 30 40]\n",
    "\n",
    "num_warehouses = 4\n",
    "num_customer = 3"
   ]
  },
  {
   "cell_type": "code",
   "execution_count": 4,
   "metadata": {},
   "outputs": [
    {
     "data": {
      "text/latex": [
       "$$ 15 x_{1,1} + 35 x_{1,2} + 35 x_{1,3} + 10 x_{2,1} + 50 x_{2,2} + 40 x_{2,3} + 20 x_{3,1} + 40 x_{3,2} + 30 x_{3,3} + 70 x_{4,1} + 75 x_{4,2} + 65 x_{4,3} $$"
      ],
      "text/plain": [
       "15 x[1,1] + 35 x[1,2] + 35 x[1,3] + 10 x[2,1] + 50 x[2,2] + 40 x[2,3] + 20 x[3,1] + 40 x[3,2] + 30 x[3,3] + 70 x[4,1] + 75 x[4,2] + 65 x[4,3]"
      ]
     },
     "execution_count": 4,
     "metadata": {},
     "output_type": "execute_result"
    }
   ],
   "source": [
    "#Create a variable xij for each pair of warehouse and customer that represents\n",
    "#the amount of goods sent from warehouse i to customer j\n",
    "@variable(company, x[1:num_warehouses,1:num_customer] >= 0)\n",
    "\n",
    "#Each warehouse i can provide at most supply[i] goods\n",
    "@constraint(company, supplyconstraint[i in 1:num_warehouses], sum(x[i,j] for j in 1:num_customer) <= supply[i])\n",
    "\n",
    "#Each customer j requires at least demand[j] goods\n",
    "@constraint(company, demandconstraint[j in 1:num_customer], sum(x[i,j] for i in 1:num_warehouses) >= demand[j])\n",
    "\n",
    "#Cost of sending from warehouse i to customer j is given by costs[i,j]\n",
    "@objective(company, Min, sum(sum(costs[i,j]*x[i,j] for j in 1:num_customer) for i in 1:num_warehouses))"
   ]
  },
  {
   "cell_type": "code",
   "execution_count": 5,
   "metadata": {},
   "outputs": [
    {
     "name": "stdout",
     "output_type": "stream",
     "text": [
      "Presolving model\n",
      "7 rows, 12 cols, 24 nonzeros\n",
      "7 rows, 12 cols, 24 nonzeros\n",
      "Presolve : Reductions: rows 7(-0); columns 12(-0); elements 24(-0)\n",
      "Solving the presolved LP\n",
      "Using EKK dual simplex solver - serial\n",
      "  Iteration        Objective     Infeasibilities num(sum)\n",
      "          0     0.0000000000e+00 Pr: 3(130) 0s\n",
      "          8     4.9500000000e+03 Pr: 0(0) 0s\n",
      "Solving the original LP from the solution after postsolve\n",
      "Model   status      : Optimal\n",
      "Simplex   iterations: 8\n",
      "Objective value     :  4.9500000000e+03\n",
      "HiGHS run time      :          0.01\n"
     ]
    }
   ],
   "source": [
    "# solving the optimization problem\n",
    "optimize!(company)"
   ]
  },
  {
   "cell_type": "code",
   "execution_count": 6,
   "metadata": {},
   "outputs": [
    {
     "data": {
      "text/plain": [
       "4×3 Matrix{Float64}:\n",
       "  0.0  30.0   0.0\n",
       " 30.0   0.0   0.0\n",
       " 10.0   0.0  20.0\n",
       "  0.0  20.0  20.0"
      ]
     },
     "execution_count": 6,
     "metadata": {},
     "output_type": "execute_result"
    }
   ],
   "source": [
    "# matrix representing the amount of goods sent from each warehouse to each \n",
    "# customer \n",
    "value.(x)"
   ]
  }
 ],
 "metadata": {
  "kernelspec": {
   "display_name": "Julia 1.7.3",
   "language": "julia",
   "name": "julia-1.7"
  },
  "language_info": {
   "file_extension": ".jl",
   "mimetype": "application/julia",
   "name": "julia",
   "version": "1.7.3"
  },
  "orig_nbformat": 4,
  "vscode": {
   "interpreter": {
    "hash": "949777d72b0d2535278d3dc13498b2535136f6dfe0678499012e853ee9abcab1"
   }
  }
 },
 "nbformat": 4,
 "nbformat_minor": 2
}
