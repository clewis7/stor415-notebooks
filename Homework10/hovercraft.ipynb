{
 "cells": [
  {
   "cell_type": "markdown",
   "metadata": {},
   "source": [
    "# Hovercraft Problem"
   ]
  },
  {
   "cell_type": "markdown",
   "metadata": {},
   "source": [
    "We are in control of a hovercraft in a 2-dimensional plane. We wish to hit a set of waypoints at specific times over the course of 60 seconds. We can control the hovercraft by adding thrust (in either or both of the dimensions) at each second over the course of the minute. Our goal is to hit the waypoints while minimizing fuel usage. We do not require that the waypoints are hit exactly. Instead, we view this optimization problem as a tradeoff between fuel useage and hitting the waypoints as closely as possible.\n",
    "\n",
    "To formulate this problem, we consider a single minute discretized into seconds, $t = 1,\\dots, 60$. There is a set of 4 waypoints, at times $T = [1, 20, 50, 60]$ with coordinates (in 2-d):\n",
    "\\begin{equation*}\n",
    "\\text{waypoints} = w = \\left[\\begin{matrix} 1 & 4 & 6 & 1 \\\\\n",
    "\t\t\t\t\t\t\t\t\t1 & 3 & 0 & 1  \\end{matrix}\\right].\n",
    "\\end{equation*}\n",
    "Note that we intend to end where we started. To define the dynamics of the hovercraft, we use the variables: position $x_t$, velocity $v_t$, thrust $u_t$. The dynamics of our hovercraft are:\n",
    "\\begin{equation*}\n",
    "x_{t+1} = x_t + v_t, \\quad v_{t+1} = v_t + u_t, \\quad \\text{for all } \\ t=1,\\dots,59.\n",
    "\\end{equation*}\n",
    "Note that these variables are all 2-d vectors. The initial position of the hovercraft is $x_1 = [1,1]^T$ and the initial velocity is $v_1 = [0,0]^T$. To track the fuel use, we use the squared Euclidean norm of $u$, that is $\\|u\\|^2 = u_1^2 + \\dots + u_{60}^2$. In addition, to track how much the way points are missed by, we use the sum of the squared Euclidean distances, i.e., $\\|x_1-w_1\\|^2 + \\|x_{20}-w_2\\|^2 + \\|x_{50}-w_3\\|^2+ \\|x_{60} - w_4\\|^2$ (recall the definition of the Euclidean distance in the previous question).\n",
    "\n",
    "Formulate this as a nonlinear optimization problem in JuMP and use the Ipopt solver to solve it. Create decision variables $x$, $v$, and $u$ which are indexed over the dimension of the problem and the number of timesteps, i.e. for a model $m$\n",
    "\\begin{equation*}\n",
    "\\texttt{@variable(m, x[1:2,1:60])}\n",
    "\\end{equation*}\n",
    "The objective function should trade off between the fuel usage and the accuracy of matching the waypoints. Specifically, for some $\\lambda > 0$, the objective should have the form\n",
    "\\begin{equation*}\n",
    "\\min \\quad \\|u\\|^2 + \\lambda \\sum_{i=1}^4 \\|x_{T_i} - w_i\\|^2,\n",
    "\\end{equation*}\n",
    "where $T_i$ is the time at which we want to be at waypoint $w_i$.\n",
    "\n",
    "Starting code is provided in this notebook. There are two parts to this problem\n",
    "- Part A) Model and solve this problem with $\\lambda = 0.01$. As a reminder, to type the symbol $\\lambda$ in Julia, type \\\\lambda and press the tab key on your keyboard. Make sure that the variable $x$ is defined as above. The code provided will then plot the path taken by the optimal solution.\n",
    "- Part B) Model and solve this problem for 30 values of $\\lambda$ log spaced between $10^{-5}$ and $10$. The code provided will create these values and has comments to denote where to place your model. You should define the variables and constraints once (prior to the loop) while the objective function should be defined each time through the loop, for a new value of $\\lambda$. Once you have solved all 30 problems, the code will plot the Pareto curve displaying the tradeoff between fuel usage and waypoint mismatch."
   ]
  },
  {
   "cell_type": "markdown",
   "metadata": {},
   "source": [
    "Problem data:"
   ]
  },
  {
   "cell_type": "code",
   "execution_count": 1,
   "metadata": {},
   "outputs": [],
   "source": [
    "# Number of waypoints\n",
    "k = 4\n",
    "# Vector of timestamps\n",
    "T = zeros(Int,k)\n",
    "# Vector of waypoint locations\n",
    "waypoints = zeros(2,k)\n",
    "\n",
    "#Set up timestamps\n",
    "T[1] = 1\n",
    "T[2] = 20\n",
    "T[3] = 50\n",
    "T[4] = 60\n",
    "\n",
    "endtime = 60\n",
    "\n",
    "# Define the waypoints\n",
    "# Each column is a waypoint (in 2-d)\n",
    "waypoints = [ 1   4   6   1;\n",
    "              1   3   0   1 ]\n",
    ";"
   ]
  },
  {
   "cell_type": "markdown",
   "metadata": {},
   "source": [
    "### Part A"
   ]
  },
  {
   "cell_type": "code",
   "execution_count": 2,
   "metadata": {},
   "outputs": [
    {
     "ename": "LoadError",
     "evalue": "LoadError: At In[2]:18: `@constraint(m, dynamic[i], (x[:, i + 1] .== x[:, i] + v[:, i] for i = 1:59))`: Unsupported constraint expression: we don't know how to parse constraints containing expressions of type :generator.\n\nIf you are writing a JuMP extension, implement `parse_constraint_head(::Function, ::Val{:generator}, args...)\nin expression starting at In[2]:18",
     "output_type": "error",
     "traceback": [
      "LoadError: At In[2]:18: `@constraint(m, dynamic[i], (x[:, i + 1] .== x[:, i] + v[:, i] for i = 1:59))`: Unsupported constraint expression: we don't know how to parse constraints containing expressions of type :generator.\n\nIf you are writing a JuMP extension, implement `parse_constraint_head(::Function, ::Val{:generator}, args...)\nin expression starting at In[2]:18",
      "",
      "Stacktrace:",
      " [1] error(::String, ::String)",
      "   @ Base ./error.jl:42",
      " [2] _macro_error(macroname::Symbol, args::Tuple{Symbol, Expr, Expr}, source::LineNumberNode, str::String)",
      "   @ JuMP ~/.julia/packages/JuMP/Z1pVn/src/macros.jl:1585",
      " [3] (::JuMP.var\"#_error#100\"{Tuple{Symbol, Expr, Expr}, Symbol, LineNumberNode})(str::String)",
      "   @ JuMP ~/.julia/packages/JuMP/Z1pVn/src/macros.jl:733",
      " [4] parse_constraint_head(::JuMP.var\"#_error#100\"{Tuple{Symbol, Expr, Expr}, Symbol, LineNumberNode}, ::Val{:generator}, ::Expr, ::Expr)",
      "   @ JuMP ~/.julia/packages/JuMP/Z1pVn/src/macros.jl:349",
      " [5] parse_constraint",
      "   @ ~/.julia/packages/JuMP/Z1pVn/src/macros.jl:305 [inlined]",
      " [6] _constraint_macro(args::Tuple{Symbol, Expr, Expr}, macro_name::Symbol, parsefun::typeof(parse_constraint), source::LineNumberNode)",
      "   @ JuMP ~/.julia/packages/JuMP/Z1pVn/src/macros.jl:802",
      " [7] var\"@constraint\"(__source__::LineNumberNode, __module__::Module, args::Vararg{Any})",
      "   @ JuMP ~/.julia/packages/JuMP/Z1pVn/src/macros.jl:914",
      " [8] eval",
      "   @ ./boot.jl:373 [inlined]",
      " [9] include_string(mapexpr::typeof(REPL.softscope), mod::Module, code::String, filename::String)",
      "   @ Base ./loading.jl:1196"
     ]
    }
   ],
   "source": [
    "using JuMP, Ipopt, LinearAlgebra\n",
    "\n",
    "#To type λ in Julia, type \\lambda then press TAB on your keyboard\n",
    "λ = 0.01\n",
    "\n",
    "m = Model(Ipopt.Optimizer)\n",
    "\n",
    "#Define your model HERE\n",
    "@variable(m, x[1:2, 1:60])\n",
    "@variable(m, v[1:2, 1:60])\n",
    "@variable(m, u[1:2, 1:60])\n",
    "\n",
    "@constraint(m, init_pos, x[:,1] .== [1; 1])\n",
    "@constraint(m, init_vel, v[:,1] .== [0; 0])\n",
    "\n",
    "@constraint(m, end_pos, x[:,60] .== [1; 1])\n",
    "\n",
    "@constraint(m, dynamic[i], x[:, i+1] .== x[:,i] + v[:, i] for i in 1:59)\n",
    "@constraint(m, dynamic2[i], v[:, i+1] .== v[:,i] + u[:, i] for i in 1:59)\n",
    "\n",
    "@objective(m, Min, norm(u[:,i] for i in 1:60) + λ*sum((norm(x[:,T[i]] - waypoints[:,i])**2) for i in 1:4))\n",
    "\n",
    "optimize!(m)"
   ]
  },
  {
   "cell_type": "code",
   "execution_count": null,
   "metadata": {},
   "outputs": [],
   "source": [
    "using Plots\n",
    "\n",
    "#Plot the solution for λ = 0.01\n",
    "x = value.(x)\n",
    "\n",
    "plot(x[1,:], x[2,:], linewidth = 2, linecolor = :blue, markersize=3,\n",
    "    markershape = :circle, markercolor = :blue, markerstrokewidth = 0, label = \"Position\")\n",
    "plot!(x[1,T], x[2,T], seriestype = :scatter, markersize=6,\n",
    "     markercolor = :blue, markerstrokewidth = 0, label = \"Position at Timestamp\" )\n",
    "plot!(waypoints[1,:], waypoints[2,:], seriestype = :scatter, markersize=6,\n",
    "    markercolor = :red, markerstrokewidth = 0, grid = false, xlims = [0,7.5],\n",
    "    ylims = [-0.5,3.5], label = \"Waypoints\", title = \"Hovercraft with λ = 0.01\" )"
   ]
  },
  {
   "cell_type": "markdown",
   "metadata": {},
   "source": [
    "### Part B"
   ]
  },
  {
   "cell_type": "code",
   "execution_count": null,
   "metadata": {},
   "outputs": [],
   "source": [
    "#Try 30 different values of lambda, logspace between\n",
    "#10^-5 and 10^1\n",
    "numtrials = 30\n",
    "lambdas = 10 .^ LinRange(-5,1,30)\n",
    "\n",
    "m = Model(Ipopt.Optimizer)\n",
    "\n",
    "#Don't make the solver output info while solving\n",
    "set_silent(m)\n",
    "\n",
    "#Insert the variables and constraints of your model here\n",
    "\n",
    "#Calculate amount of fuel used in each trial\n",
    "normu = zeros(numtrials)\n",
    "#Calculate amount of mismatch in each trial\n",
    "normdiff = zeros(numtrials)\n",
    "\n",
    "#Keep track of the trial number\n",
    "i = 1\n",
    "for λ in lambdas\n",
    "        #Insert your objective with the current value of λ HERE\n",
    "        \n",
    "        optimize!(m)\n",
    "\n",
    "        #Calculate amount of fuel used in this trial\n",
    "        normu[i] = sum((value.(u)).^2)\n",
    "        #Calculate waypoint mismatch in this trial\n",
    "        normdiff[i] = sum((value.(x)[:,T]-value.(waypoints)).^2)\n",
    "        i = i+1\n",
    "end\n",
    ";\n",
    "\n",
    "#Plot the Pareto curve, which tradesoff between fuel usage and mismatch\n",
    "plot( normu, normdiff, title=\"Pareto curve for Hovercraft\", xlabel = \"Fuel Usage\", ylabel = \"Waypoint Mismatch\",\n",
    "      linewidth = 2, markersize = 3, markerstrokewidth = 0, markershape = :circle, label = \"\")"
   ]
  }
 ],
 "metadata": {
  "kernelspec": {
   "display_name": "Julia 1.7.3",
   "language": "julia",
   "name": "julia-1.7"
  },
  "language_info": {
   "file_extension": ".jl",
   "mimetype": "application/julia",
   "name": "julia",
   "version": "1.7.3"
  }
 },
 "nbformat": 4,
 "nbformat_minor": 1
}
