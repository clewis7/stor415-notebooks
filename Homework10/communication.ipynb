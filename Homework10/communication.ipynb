{
 "cells": [
  {
   "cell_type": "markdown",
   "metadata": {},
   "source": [
    "A communication company plans to place 10 broadcast stations at given locations $a^1, ..., a^{10}$ in 10 regions. Each station has its own maximum *signal converge area* of radius $r_i$ (in feet). The radius $r_i$ of each station *i* is at least $\\underline{r}$ feet and at most $\\overline{r}$ feet (*i* = 1,..., 10). To cover each square foot of the signal converage area of the *i*-th station, a cost of $c_i$ dollars is incurred. Tge company can remotely control these stations by placing a central station at location *x*. This location should be covered by all stations $a^{i}$ in their *signal coverage area*, but it must be at most $r_0$ feet far from the company's headquarters located at a given place $a_0$. The goal is to find the location *x* of the central station and the radius $r_i$ of the *i*-th station to minimize the total cost. \n",
    "\n",
    "The input data is given as follows:\n",
    "- The location of all stations is $a^1$ = (0,4), $a^2$ = (1,5), $a^3$ = (2,3), $a^4$ = (2,1), $a^5$ = (3,6), $a^6$ = (4,5), $a^7$ = (4,1), $a^8$ = (5,2), $a^9$ = (6,5), $a^{10}$ = (7,4).\n",
    "\n",
    "- The location of the headquarters $a^0$ = (4,4), the upper and lower bounds of the radius $r_0 = 1$, $\\overline{r} = 5$, and $\\underline{r} = 0.02$.\n",
    "\n",
    "- The unit costs are *c* = ${[1; 2; 1.2; 2.5; 2.1; 1.1; 1.8; 1.4; 1.35; 1.82]}^T$\n",
    "\n",
    "The units of the distances $r_i, \\overline{r}, \\underline{r}, r_0$ and the coordinates of $a^i$ are in $10^5$ feet and the unit cost $c_i$ are in dollars per square foot. The distance is measured by the Euclidean distance, which is defined as $\\lVert x-y \\rVert = \\sqrt{{(x_1-y_1)}^2+{(x_2-y_2)}^2}$ for any two points $x = (x_1, x_2)$ and $y = (y_1, y_2)$ in $R^2$."
   ]
  },
  {
   "cell_type": "markdown",
   "metadata": {},
   "source": []
  },
  {
   "cell_type": "code",
   "execution_count": 1,
   "metadata": {},
   "outputs": [
    {
     "data": {
      "text/plain": [
       "A JuMP Model\n",
       "Feasibility problem with:\n",
       "Variables: 0\n",
       "Model mode: AUTOMATIC\n",
       "CachingOptimizer state: EMPTY_OPTIMIZER\n",
       "Solver name: Ipopt"
      ]
     },
     "execution_count": 1,
     "metadata": {},
     "output_type": "execute_result"
    }
   ],
   "source": [
    "using JuMP, Ipopt, LinearAlgebra\n",
    "\n",
    "m = Model(Ipopt.Optimizer)"
   ]
  },
  {
   "cell_type": "code",
   "execution_count": 2,
   "metadata": {},
   "outputs": [
    {
     "data": {
      "text/plain": [
       "2-element Vector{VariableRef}:\n",
       " x[1]\n",
       " x[2]"
      ]
     },
     "execution_count": 2,
     "metadata": {},
     "output_type": "execute_result"
    }
   ],
   "source": [
    "# defining variables\n",
    "costs = [1; 2; 1.2; 2.5; 2.1; 1.1; 1.8; 1.4; 1.35; 1.82]\n",
    "\n",
    "a0 = [4, 4]\n",
    "a1 = [0, 4]\n",
    "a2 = [1, 5]\n",
    "a3 = [2, 3]\n",
    "a4 = [2, 1]\n",
    "a5 = [3, 6]\n",
    "a6 = [4, 5]\n",
    "a7 = [4, 1]\n",
    "a8 = [5, 2]\n",
    "a9 = [6, 5]\n",
    "a10 = [7, 4]\n",
    "\n",
    "r0 = 1\n",
    "\n",
    "r_upper = 5\n",
    "r_lower = 0.02\n",
    "\n",
    "# variable to represent the radius of each station \n",
    "stations = 1:10\n",
    "@variable(m, r_upper >= radius[stations] >= r_lower)\n",
    "\n",
    "# variable to represent the location of the central station\n",
    "@variable(m, x[1:2])"
   ]
  },
  {
   "cell_type": "code",
   "execution_count": 3,
   "metadata": {},
   "outputs": [
    {
     "data": {
      "text/latex": [
       "$$ subexpression_{11} - 1.0 \\leq 0 $$"
      ],
      "text/plain": [
       "subexpression[11] - 1.0 ≤ 0"
      ]
     },
     "execution_count": 3,
     "metadata": {},
     "output_type": "execute_result"
    }
   ],
   "source": [
    "# defining constraints \n",
    "\n",
    "@NLexpression(m, expr1, sqrt((x[1]-a1[1])^2 + (x[2]-a1[2])^2))\n",
    "@NLexpression(m, expr2, sqrt((x[1]-a2[1])^2 + (x[2]-a2[2])^2))\n",
    "@NLexpression(m, expr3, sqrt((x[1]-a3[1])^2 + (x[2]-a3[2])^2))\n",
    "@NLexpression(m, expr4, sqrt((x[1]-a4[1])^2 + (x[2]-a4[2])^2))\n",
    "@NLexpression(m, expr5, sqrt((x[1]-a6[1])^2 + (x[2]-a5[2])^2))\n",
    "@NLexpression(m, expr6, sqrt((x[1]-a6[1])^2 + (x[2]-a6[2])^2))\n",
    "@NLexpression(m, expr7, sqrt((x[1]-a7[1])^2 + (x[2]-a7[2])^2))\n",
    "@NLexpression(m, expr8, sqrt((x[1]-a8[1])^2 + (x[2]-a8[2])^2))\n",
    "@NLexpression(m, expr9, sqrt((x[1]-a9[1])^2 + (x[2]-a9[2])^2))\n",
    "@NLexpression(m, expr10, sqrt((x[1]-a10[1])^2 + (x[2]-a10[2])^2))\n",
    "\n",
    "@NLconstraint(m, distance1, expr1 <= radius[1])\n",
    "@NLconstraint(m, distance2, expr2 <= radius[2])\n",
    "@NLconstraint(m, distance3, expr3 <= radius[3])\n",
    "@NLconstraint(m, distance4, expr4 <= radius[4])\n",
    "@NLconstraint(m, distance5, expr5 <= radius[5])\n",
    "@NLconstraint(m, distance6, expr6 <= radius[6])\n",
    "@NLconstraint(m, distance7, expr7 <= radius[7])\n",
    "@NLconstraint(m, distance8, expr8 <= radius[8])\n",
    "@NLconstraint(m, distance9, expr9 <= radius[9])\n",
    "@NLconstraint(m, distance10, expr10 <= radius[10])\n",
    "\n",
    "# location of center station must be within r_0 of headquarters\n",
    "@NLexpression(m, expr0, sqrt((x[1]-a0[1])^2 + (x[2]-a0[2])^2))\n",
    "@NLconstraint(m, hqdistance, expr0 <= r0)"
   ]
  },
  {
   "cell_type": "code",
   "execution_count": 7,
   "metadata": {},
   "outputs": [
    {
     "data": {
      "text/latex": [
       "$$ 3.141592653589793e6 radius_{1}^2 $$"
      ],
      "text/plain": [
       "3.141592653589793e6 radius[1]²"
      ]
     },
     "execution_count": 7,
     "metadata": {},
     "output_type": "execute_result"
    }
   ],
   "source": [
    "# objective function \n",
    "cost1 = (10^5 * costs[1]) * (pi * radius[1]^2)\n",
    "cost2 = (10^5 * costs[1]) * (pi * radius[1]^2)\n",
    "cost3 = (10^5 * costs[1]) * (pi * radius[1]^2)\n",
    "cost4 = (10^5 * costs[1]) * (pi * radius[1]^2)\n",
    "cost5 = (10^5 * costs[1]) * (pi * radius[1]^2)\n",
    "cost6 = (10^5 * costs[1]) * (pi * radius[1]^2)\n",
    "cost7 = (10^5 * costs[1]) * (pi * radius[1]^2)\n",
    "cost8 = (10^5 * costs[1]) * (pi * radius[1]^2)\n",
    "cost9 = (10^5 * costs[1]) * (pi * radius[1]^2)\n",
    "cost10 = (10^5 * costs[1]) * (pi * radius[1]^2)\n",
    "\n",
    "@objective(m, Min, cost1+cost2+cost3+cost4+cost5+cost6+cost7+cost8+cost9+cost10)"
   ]
  },
  {
   "cell_type": "code",
   "execution_count": 8,
   "metadata": {},
   "outputs": [
    {
     "name": "stdout",
     "output_type": "stream",
     "text": [
      "\n",
      "******************************************************************************\n",
      "This program contains Ipopt, a library for large-scale nonlinear optimization.\n",
      " Ipopt is released as open source code under the Eclipse Public License (EPL).\n",
      "         For more information visit https://github.com/coin-or/Ipopt\n",
      "******************************************************************************\n",
      "\n",
      "This is Ipopt version 3.14.4, running with linear solver MUMPS 5.4.1.\n",
      "\n",
      "Number of nonzeros in equality constraint Jacobian...:        0\n",
      "Number of nonzeros in inequality constraint Jacobian.:       32\n",
      "Number of nonzeros in Lagrangian Hessian.............:       34\n",
      "\n",
      "Total number of variables............................:       12\n",
      "                     variables with only lower bounds:        0\n",
      "                variables with lower and upper bounds:       10\n",
      "                     variables with only upper bounds:        0\n",
      "Total number of equality constraints.................:        0\n",
      "Total number of inequality constraints...............:       11\n",
      "        inequality constraints with only lower bounds:        0\n",
      "   inequality constraints with lower and upper bounds:        0\n",
      "        inequality constraints with only upper bounds:       11\n",
      "\n",
      "iter    objective    inf_pr   inf_du lg(mu)  ||d||  lg(rg) alpha_du alpha_pr  ls\n",
      "   0  2.8274315e+03 8.03e+00 8.86e+01  -1.0 0.00e+00    -  0.00e+00 0.00e+00   0\n",
      "   1  2.7796429e+03 7.98e+00 8.79e+01  -1.0 4.45e+00    -  6.88e-03 7.46e-03h  1\n",
      "   2  2.3308455e+03 7.36e+00 8.20e+01  -1.0 4.61e+00    -  1.02e-02 7.74e-02f  1\n",
      "   3  2.1298582e+03 7.00e+00 7.81e+01  -1.0 4.51e+00    -  4.08e-02 4.93e-02f  1\n",
      "   4  1.3823124e+03 5.41e+00 6.49e+01  -1.0 4.53e+00    -  1.32e-02 2.32e-01f  1\n",
      "   5  1.3765615e+03 5.12e+00 6.38e+01  -1.0 6.67e+00    -  3.13e-02 5.50e-02h  1\n",
      "   6  1.3789435e+03 4.87e+00 6.02e+01  -1.0 3.63e+00    -  5.40e-02 4.96e-02h  1\n",
      "   7  1.3796656e+03 4.66e+00 3.29e+01  -1.0 2.33e+00   0.0 3.60e-01 4.13e-02h  1\n",
      "   8  1.3766750e+03 2.80e+00 5.75e+01  -1.0 3.79e+00    -  7.22e-02 1.00e+00f  1\n",
      "   9  1.3793073e+03 2.62e+00 3.11e+01  -1.0 3.66e+00    -  4.64e-01 3.07e-01h  1\n",
      "iter    objective    inf_pr   inf_du lg(mu)  ||d||  lg(rg) alpha_du alpha_pr  ls\n",
      "  10  1.3810070e+03 2.55e+00 3.03e+01  -1.0 3.02e+00    -  4.50e-01 3.19e-02h  1\n",
      "  11  1.3961438e+03 1.98e+00 2.34e+01  -1.0 7.55e+00    -  5.01e-01 2.59e-01f  1\n",
      "  12  1.4026629e+03 1.93e+00 4.75e+01  -1.0 5.28e+00    -  3.06e-01 2.96e-02h  1\n",
      "  13  1.5039662e+03 1.90e+00 6.21e+01  -1.0 8.34e+00    -  1.54e-01 8.95e-02f  2\n",
      "  14  6.1229399e+03 1.89e+00 2.17e+02  -1.0 1.02e+01    -  2.95e-01 1.19e-01h  1\n",
      "  15  3.7226162e+04 1.89e+00 3.83e+02  -1.0 5.43e+00    -  9.45e-02 2.47e-01h  2\n",
      "  16  2.2453963e+05 1.89e+00 1.34e+03  -1.0 4.08e+00    -  5.39e-01 5.07e-01h  1\n",
      "  17  4.7230413e+05 1.47e+00 6.02e+02  -1.0 3.09e+00    -  4.95e-01 4.75e-01h  2\n",
      "  18  2.0591639e+06 1.21e+00 3.88e+02  -1.0 3.37e+00    -  1.90e-01 2.06e-01h  1\n",
      "  19  2.7735927e+07 4.49e-02 4.89e+03  -1.0 2.16e+00    -  9.59e-01 1.00e+00h  1\n",
      "iter    objective    inf_pr   inf_du lg(mu)  ||d||  lg(rg) alpha_du alpha_pr  ls\n",
      "  20  2.7473935e+07 3.18e-02 3.93e+02  -1.0 1.16e+00    -  1.00e+00 1.00e+00f  1\n",
      "  21  2.8274486e+07 0.00e+00 2.97e+00  -1.0 2.76e-01    -  1.00e+00 1.00e+00h  1\n",
      "  22  2.8274383e+07 0.00e+00 1.61e-04  -1.7 1.89e-03    -  1.00e+00 1.00e+00f  1\n",
      "  23  2.8274334e+07 0.00e+00 5.26e-08  -3.8 5.77e-05    -  1.00e+00 1.00e+00f  1\n",
      "  24  2.8274334e+07 0.00e+00 1.96e-12  -8.6 1.31e-07    -  1.00e+00 1.00e+00f  1\n",
      "\n",
      "Number of Iterations....: 24\n",
      "\n",
      "                                   (scaled)                 (unscaled)\n",
      "Objective...............:   2.2499999700005003e+04    2.8274333505323306e+07\n",
      "Dual infeasibility......:   1.9597494132594755e-12    2.4626937438291502e-09\n",
      "Constraint violation....:   0.0000000000000000e+00    0.0000000000000000e+00\n",
      "Variable bound violation:   0.0000000000000000e+00    0.0000000000000000e+00\n",
      "Complementarity.........:   2.5432029150500506e-09    3.1958830378037542e-06\n",
      "Overall NLP error.......:   2.6279763630672857e-10    3.1958830378037542e-06\n",
      "\n",
      "\n",
      "Number of objective function evaluations             = 33\n",
      "Number of objective gradient evaluations             = 25\n",
      "Number of equality constraint evaluations            = 0\n",
      "Number of inequality constraint evaluations          = 33\n",
      "Number of equality constraint Jacobian evaluations   = 0\n",
      "Number of inequality constraint Jacobian evaluations = 25\n",
      "Number of Lagrangian Hessian evaluations             = 24\n",
      "Total seconds in IPOPT                               = 2.462\n",
      "\n",
      "EXIT: Optimal Solution Found.\n"
     ]
    }
   ],
   "source": [
    "# objective goal is to minimize the total cost \n",
    "optimize!(m)"
   ]
  },
  {
   "cell_type": "code",
   "execution_count": 9,
   "metadata": {},
   "outputs": [
    {
     "data": {
      "text/plain": [
       "2-element Vector{Float64}:\n",
       " 2.9999999900001666\n",
       " 3.999999999999837"
      ]
     },
     "execution_count": 9,
     "metadata": {},
     "output_type": "execute_result"
    }
   ],
   "source": [
    "value.(x)"
   ]
  },
  {
   "cell_type": "code",
   "execution_count": 11,
   "metadata": {},
   "outputs": [
    {
     "data": {
      "text/plain": [
       "1-dimensional DenseAxisArray{Float64,1,...} with index sets:\n",
       "    Dimension 1, 1:10\n",
       "And data, a 10-element Vector{Float64}:\n",
       " 2.9999999800003336\n",
       " 3.8591594765850292\n",
       " 3.6295466061242307\n",
       " 4.18185382184761\n",
       " 3.859177505067826\n",
       " 3.628000025811077\n",
       " 4.181365984378271\n",
       " 4.057648510894627\n",
       " 4.181361708906732\n",
       " 4.535158233857974"
      ]
     },
     "execution_count": 11,
     "metadata": {},
     "output_type": "execute_result"
    }
   ],
   "source": [
    "value.(radius)"
   ]
  },
  {
   "cell_type": "code",
   "execution_count": null,
   "metadata": {},
   "outputs": [],
   "source": []
  }
 ],
 "metadata": {
  "kernelspec": {
   "display_name": "Julia 1.7.3",
   "language": "julia",
   "name": "julia-1.7"
  },
  "language_info": {
   "file_extension": ".jl",
   "mimetype": "application/julia",
   "name": "julia",
   "version": "1.7.3"
  },
  "orig_nbformat": 4
 },
 "nbformat": 4,
 "nbformat_minor": 2
}
