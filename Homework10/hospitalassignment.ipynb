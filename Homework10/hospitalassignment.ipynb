{
 "cells": [
  {
   "cell_type": "markdown",
   "metadata": {},
   "source": [
    "# Hospital Assignment Problem"
   ]
  },
  {
   "cell_type": "markdown",
   "metadata": {},
   "source": [
    "Every year, a new set of recent medical school graduates need to begin their residency at a hospital. Due to the prestige of certain hospitals, it is generally impossible for all recent graduates to begin residency at their first choice. In order to facilitate a fair assignment process, where each graduate is matched with one hospital, the graduates are usually asked to fill out a preference list, ranking each of the hospitals. Graduates are then matched to hospitals by solving an assignment problem (a balanced transportation problem) where the preferences of the graduates are used to define the costs in the objective function, which we minimize.\n",
    "\n",
    "For example, consider the case where there are 3 hospitals and 4 people. Then, each person rates one hospital as 1 (their first choice), one hospital as 2, and one hospital as 3. An example preference list would be, where each row is a person and each column is a hospital.\n",
    "\\begin{equation*}\n",
    "\\left[\n",
    "\\begin{matrix}\n",
    "2 & 1 & 3 \\\\\n",
    "1 & 2 & 3 \\\\\n",
    "1 & 2 & 3 \\\\\n",
    "2 & 3 & 1\n",
    "\\end{matrix}\n",
    "\\right]\n",
    "\\end{equation*}\n",
    "Here, the first person's first preference is hospital 2, their second preference is hospital 1 and their third preference is hospital 3. Our goal is to satisfy these preferences in the \"best\" way possible. However, what is \"best\" is not always clear. Should we maximize the number of people who get their first choice? Or minimize the number that get their third choice? We can get different solutions that favor one approach versus the other by varying how we use these preferences to define the objective function. For example, if we simply use these preferences as the costs (so if person A gets assigned to their first choice, that incurs a cost of 1, their second choice incurs a cost of 2, and their third choice incurs a cost of 3). However, we may get a very different assignment if we use the square of these preferences as the costs (so if person A gets assigned to their first choice, that incurs a cost of 1, their second choice incurs a cost of 4, and their third choice incurs a cost of 9).\n",
    "\n",
    "In this homework assignment, you will start from **the code in this notebook**. The code inside of the first code block of the notebook generates an example of the hospital assignment problem with 100 people and 5 hospitals. You do not need to modify this block. You will solve this problem 4 times, raising the preference list to the powers 1/4, 1, 2, and 4, as is set up in the second code block. In this second block, you should put the variables and constraints of your model prior to the loop. Inside the loop, you should create the objective function based on the power the preference list is raised to (using the variable preferences defined in there). Then, update the line of code just below optimize!(m) with the name of your decision variable (which should be indexed over [people (1-100), hospitals (1-5)]).\n",
    "\n",
    "You should formulate this problem as a balanced transportation problem, where each person is assigned to one hospital (provides 1 supply) and each hospital is assigned 20 people (has a demand of 20). Due to the size of this problem, constructing an incidence matrix is a bit unweildy, so you should use the transportation problem form found in Applications\\_Transportation slides.\n",
    "\n",
    "If done properly, the rest of the code will compile the data from the solutions and the third code block will plot the 4 different solutions. **Finally, in Markdown below the final code cell, you should add a brief discussion of which solution you think is \"best\" and why.**"
   ]
  },
  {
   "cell_type": "markdown",
   "metadata": {},
   "source": [
    "The code directly below this should run as is (so long as you have the proper libraries; if not, make sure to add them as described in the first comment). This code will set up the matrix of preferences of the 100 people for each of the 5 hospitals and place it in the matrix preferencelist."
   ]
  },
  {
   "cell_type": "code",
   "execution_count": null,
   "metadata": {},
   "outputs": [],
   "source": [
    "#If you have not installed Random before, call\n",
    "#using Pkg\n",
    "#Pkg.add(\"Random\")\n",
    "using Random\n",
    "\n",
    "#Set the random seed so this always gives the same results.\n",
    "#You may change this to different numbers to see the results, but please\n",
    "#submit using seed 10\n",
    "Random.seed!(10)\n",
    "\n",
    "#Number of people\n",
    "np = 100\n",
    "#Number of hospitals\n",
    "nh = 5\n",
    "\n",
    "#Create a preference list with np rows and nh columns\n",
    "#(each row is the preferences of 1 person)\n",
    "preferencelist = zeros(np, nh)\n",
    "#Generate a random permutation of the numbers 1 through 5\n",
    "pref = shuffle(1:5)\n",
    "#Copy this shuffle 60 times (to make the problem difficult to assign)\n",
    "for i in 1:60\n",
    "    preferencelist[i,:] = pref\n",
    "end\n",
    "\n",
    "#The last 40 preferences are all random permutations\n",
    "for i in 61:np\n",
    "    preferencelist[i,:] = shuffle(1:5)\n",
    "end\n",
    "\n",
    "#Print out the last 3 rows, to see what this list looks like.\n",
    "#Each row is a person with 5 entries that rate each of the 5\n",
    "#hospitals as 1 through 5.\n",
    "for i in np-2:np\n",
    "    println(preferencelist[i,:])\n",
    "end\n",
    ";"
   ]
  },
  {
   "cell_type": "markdown",
   "metadata": {},
   "source": [
    "The data is set up, so it's time to move onto the model. We will solve this problem 4 times with the same set of variables and constraints but a new objective function each time. The code below has 3 spots where you need to insert or modify it with your model to make it work."
   ]
  },
  {
   "cell_type": "code",
   "execution_count": null,
   "metadata": {},
   "outputs": [],
   "source": [
    "using JuMP, HiGHS\n",
    "\n",
    "#Powers that we will raise the preference list to\n",
    "powers = [1/4 1 2 4];\n",
    "\n",
    "#Create the model\n",
    "m = Model(HiGHS.Optimizer)\n",
    "#set_silent suppresses the output during solving\n",
    "#this is nice when we solve multiple times\n",
    "set_silent(m)\n",
    "\n",
    "#Insert the variables and constraints in your model HERE.\n",
    "#Your decision variables should be a matrix indexed\n",
    "#by [people,hospitals] (1 entry for each pair)\n",
    "\n",
    "\n",
    "#INSERT YOUR CODE HERE\n",
    "\n",
    "\n",
    "#Dictionary that will store the solution. It will map the numbers\n",
    "#1 through 4 to the 4 different solutions (in terms of the decision\n",
    "#variables, which should be a matrix).\n",
    "solution = Dict()\n",
    "\n",
    "#Keep track of the iteration number (for saving solutions)\n",
    "iteration = 1\n",
    "#Loop through all elements in power. Solve a new model each\n",
    "#time.\n",
    "for p in powers\n",
    "    #Raise the preferences list to the power p (elementwise)\n",
    "    preferences = preferencelist.^p\n",
    "\n",
    "    #Insert your objective function HERE\n",
    "\n",
    "\n",
    "    optimize!(m)\n",
    "\n",
    "    #UPDATE THE CODE BELOW\n",
    "    #Uncomment this code and insert the name of your\n",
    "    #decision variable instead of ``mydecisionvariable\"\n",
    "\n",
    "    #solution[iteration] = value.(mydecisionvariable)\n",
    "\n",
    "    iteration = iteration+1\n",
    "end\n",
    "\n",
    "#If everything was done properly above, the rest of the code should run\n",
    "#without needing changes\n",
    "\n",
    "#Set up a matrix with nh rows and 4 columns\n",
    "#Each column is the solution for a different power,\n",
    "#where the number of people who were assigned their first choice\n",
    "#are in row 1, the number of people who were assigned their\n",
    "#second choice are in row 2, etc.\n",
    "preferencecount = zeros(nh,length(powers))\n",
    "for k in 1:length(powers)\n",
    "    #Look at the k-th solution, should be a matrixed\n",
    "    #indexed over [people,hospitals]\n",
    "    soln = solution[k]\n",
    "\n",
    "    #Loop through the soln matrix\n",
    "    for i in 1:np\n",
    "        for j in 1:nh\n",
    "            #If the current element we are looking at has an entry of 1\n",
    "            #(so it was chosen as part of the assignment)\n",
    "            if(abs(soln[i,j]-1) <= 10^-6)\n",
    "                #Determine what preference this person had for this assignment\n",
    "                #(should be a number 1-5).\n",
    "                pref = convert(Int64,preferencelist[i,j])\n",
    "                #Increase the entry in preferencecount for that preference\n",
    "                #(For example, if this assignment had a preference of 3 and we have seen\n",
    "                #1 3 previously, this updates the count to 2 3's having been seen)\n",
    "                preferencecount[pref,k] = preferencecount[pref,k] + 1\n",
    "            end\n",
    "        end\n",
    "    end\n",
    "end\n",
    "\n",
    "#Show the preference count as a matrix. First row is number\n",
    "#of people assigned their first preference for the 4 different trials,\n",
    "#the second row is the number of people assigned their second preference...\n",
    "for i in 1:nh\n",
    "    println(preferencecount[i,:])\n",
    "end"
   ]
  },
  {
   "cell_type": "markdown",
   "metadata": {},
   "source": [
    "Now let's plot the different solutions."
   ]
  },
  {
   "cell_type": "code",
   "execution_count": null,
   "metadata": {},
   "outputs": [],
   "source": [
    "#If you have not installed plots before, run\n",
    "#using Pkg\n",
    "#Pkg.add(\"Plots\")\n",
    "using Plots\n",
    "\n",
    "#Generate bar plots of each solution. Notice how the solution changes\n",
    "#as we raise the preferences to a higher power\n",
    "p1 = bar(1:5, preferencecount[:,1], title = \"p = 1/4\", ylims = (0,50))\n",
    "p2 = bar(1:5, preferencecount[:,2], title = \"p = 1\", ylims = (0,50))\n",
    "p3 = bar(1:5, preferencecount[:,3], title = \"p = 2\", ylims = (0,50))\n",
    "p4 = bar(1:5, preferencecount[:,4], title = \"p = 4\", ylims = (0,50))\n",
    "plot(p1, p2, p3, p4, layout = (1, 4), legend = false)"
   ]
  },
  {
   "cell_type": "markdown",
   "metadata": {},
   "source": [
    "Which solution do you feel is the most fair or gives the \"best\" solution? Explain in this Markdown cell:\n",
    "\n",
    "\n"
   ]
  }
 ],
 "metadata": {
  "kernelspec": {
   "display_name": "Julia 1.7.3",
   "language": "julia",
   "name": "julia-1.7"
  },
  "language_info": {
   "file_extension": ".jl",
   "mimetype": "application/julia",
   "name": "julia",
   "version": "3.9.13"
  },
  "orig_nbformat": 4,
  "vscode": {
   "interpreter": {
    "hash": "9354bce1b2be92abddfc63e9f5a4ba876c2722856673db2d2d22a821fc65cb69"
   }
  }
 },
 "nbformat": 4,
 "nbformat_minor": 2
}
