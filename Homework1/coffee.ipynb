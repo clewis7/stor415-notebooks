{
 "cells": [
  {
   "cell_type": "markdown",
   "metadata": {},
   "source": [
    "# Question 2"
   ]
  },
  {
   "cell_type": "markdown",
   "metadata": {},
   "source": [
    "Superior Roasters Coffee Company mixes specialty blends of coffee to sell to Big Cup Coffee, a small chain of coffee shops. The beans used in their specialty coffee are listed in the table below:\n",
    "\n",
    "| Bean Type       | Cost / Pound ($)           | Available amount (lbs)  |\n",
    "| ------------- |:-------------:| :-----:|\n",
    "| Columbian      | 1.00 | 550 |\n",
    "| Brazilian      | 0.85     |   450 |\n",
    "| Sumatran | 1.55    |    650 |"
   ]
  },
  {
   "cell_type": "markdown",
   "metadata": {},
   "source": [
    "Superior Roaster's products are:\n",
    "\n",
    "- Robust Joe must consist of 60-75% Sumatran beans and at least 10% Columbian beans. Each pound of Robust Joe can be sold to Big Cup for $4.25.\n",
    "\n",
    "- Light Joe must consist of 50-60% Brazilian beans and no more than 20% Sumatran beans. Each pound of Light Joe can be sold to Big Cup for $3.95."
   ]
  },
  {
   "cell_type": "markdown",
   "metadata": {},
   "source": [
    "Formulate an LP to maximize the total profit (revenue - cost). "
   ]
  },
  {
   "cell_type": "code",
   "execution_count": 1,
   "metadata": {},
   "outputs": [],
   "source": [
    "# symbol vectors for types of beans and the two blends \n",
    "types = [:Columbian, :Brazilian, :Sumatran];\n",
    "blends = [:Robust, :Light];"
   ]
  },
  {
   "cell_type": "code",
   "execution_count": 2,
   "metadata": {},
   "outputs": [],
   "source": [
    "using JuMP\n",
    "using HiGHS\n",
    "\n",
    "# create model with appropriate optimizer \n",
    "coffeeblend = Model(HiGHS.Optimizer);"
   ]
  },
  {
   "cell_type": "code",
   "execution_count": 5,
   "metadata": {},
   "outputs": [
    {
     "data": {
      "text/plain": [
       "Dict{Symbol, Int64} with 3 entries:\n",
       "  :Sumatran  => 650\n",
       "  :Columbian => 550\n",
       "  :Brazilian => 450"
      ]
     },
     "execution_count": 5,
     "metadata": {},
     "output_type": "execute_result"
    }
   ],
   "source": [
    "# cost per pound of each kind of bean (in $)\n",
    "coffee_price = Dict(:Columbian => 1.00, :Brazilian => 0.85, :Sumatran => 1.55)\n",
    "\n",
    "# amount of each kind of bean available (in lbs)\n",
    "bean_availability = Dict(:Columbian => 550, :Brazilian => 450, :Sumatran => 650)\n",
    "\n",
    "# money made from each type of blend sold (in $)\n",
    "purchase_price = Dict(:Robust => 4.25, :Light => 3.95)\n",
    "\n",
    "#Quantity available of each resource\n",
    "# num_labor = 4000\n",
    "# num_metal = 5000\n",
    "\n",
    "bean_availability"
   ]
  },
  {
   "cell_type": "code",
   "execution_count": 6,
   "metadata": {},
   "outputs": [
    {
     "data": {
      "text/plain": [
       "1-dimensional DenseAxisArray{VariableRef,1,...} with index sets:\n",
       "    Dimension 1, [:Columbian, :Brazilian, :Sumatran]\n",
       "And data, a 3-element Vector{VariableRef}:\n",
       " blends[Columbian]\n",
       " blends[Brazilian]\n",
       " blends[Sumatran]"
      ]
     },
     "execution_count": 6,
     "metadata": {},
     "output_type": "execute_result"
    }
   ],
   "source": [
    "# declaring variable that is indexed over types and blends\n",
    "x = @variable(coffeeblend, blends[types] >= 0);\n",
    "\n",
    "x"
   ]
  },
  {
   "cell_type": "code",
   "execution_count": null,
   "metadata": {},
   "outputs": [],
   "source": [
    "# constraints for Robust Joe\n",
    "@constraint(coffeeblend, RSLowerBound, x[:Sumatran, :Robust] >= 0.6*sum(x[i,:Robust] for i in types));\n",
    "@constraint(coffeeblend, RSUpperBound, x[:Sumatran, :Robust] <= 0.75*sum(x[i,:Robust] for i in types));\n",
    "@constraint(coffeeblend, RCBound, x[:Columbian, :Robust] >= 0.1*sum(x[i,:Robust] for i in types));\n",
    "\n",
    "# constraints for Light Joe\n",
    "@constraint(coffeeblend, LBLowerBound, x[:Brazilian, :Light] >= 0.5*sum(x[i,:Light] for i in types));\n",
    "@constraint(coffeeblend, LBUpperBound, x[:Brazilian, :Light] <= 0.6*sum(x[i,:Light] for i in types));\n",
    "@constraint(coffeeblend, LSBound, x[:Sumatran, :Robust] <= 0.2*sum(x[i,:Light] for i in types));"
   ]
  },
  {
   "cell_type": "code",
   "execution_count": null,
   "metadata": {},
   "outputs": [],
   "source": [
    "#Create our objective function and set it for minimization\n",
    "@objective(coffeeblend, Max, sum(profit[i]*frame[i] for i in types));\n",
    "\n",
    "print(picframe2)"
   ]
  },
  {
   "cell_type": "code",
   "execution_count": null,
   "metadata": {},
   "outputs": [],
   "source": [
    "#Solve the model\n",
    "optimize!(picframe3);\n",
    "#Outputs detailed information about the solution process\n",
    "@show solution_summary(picframe3);"
   ]
  }
 ],
 "metadata": {
  "kernelspec": {
   "display_name": "Julia 1.7.3",
   "language": "julia",
   "name": "julia-1.7"
  },
  "language_info": {
   "file_extension": ".jl",
   "mimetype": "application/julia",
   "name": "julia",
   "version": "1.7.3"
  },
  "orig_nbformat": 4,
  "vscode": {
   "interpreter": {
    "hash": "949777d72b0d2535278d3dc13498b2535136f6dfe0678499012e853ee9abcab1"
   }
  }
 },
 "nbformat": 4,
 "nbformat_minor": 2
}
