{
 "cells": [
  {
   "cell_type": "markdown",
   "metadata": {},
   "source": [
    "# Question 2"
   ]
  },
  {
   "cell_type": "markdown",
   "metadata": {},
   "source": [
    "Superior Roasters Coffee Company mixes specialty blends of coffee to sell to Big Cup Coffee, a small chain of coffee shops. The beans used in their specialty coffee are listed in the table below:\n",
    "\n",
    "| Bean Type       | Cost / Pound ($)           | Available amount (lbs)  |\n",
    "| ------------- |:-------------:| :-----:|\n",
    "| Columbian      | 1.00 | 550 |\n",
    "| Brazilian      | 0.85     |   450 |\n",
    "| Sumatran | 1.55    |    650 |"
   ]
  },
  {
   "cell_type": "markdown",
   "metadata": {},
   "source": [
    "Superior Roaster's products are:\n",
    "\n",
    "- Robust Joe must consist of 60-75% Sumatran beans and at least 10% Columbian beans. Each pound of Robust Joe can be sold to Big Cup for $4.25.\n",
    "\n",
    "- Light Joe must consist of 50-60% Brazilian beans and no more than 20% Sumatran beans. Each pound of Light Joe can be sold to Big Cup for $3.95."
   ]
  },
  {
   "cell_type": "markdown",
   "metadata": {},
   "source": [
    "Formulate an LP to maximize the total profit (revenue - cost). "
   ]
  },
  {
   "cell_type": "code",
   "execution_count": 1,
   "metadata": {},
   "outputs": [],
   "source": [
    "# symbol vectors for types of beans and the two blends \n",
    "types = [:Columbian, :Brazilian, :Sumatran];\n",
    "blends = [:Robust, :Light];"
   ]
  },
  {
   "cell_type": "code",
   "execution_count": 2,
   "metadata": {},
   "outputs": [],
   "source": [
    "using JuMP\n",
    "using HiGHS\n",
    "\n",
    "# create model with appropriate optimizer \n",
    "coffeeblend = Model(HiGHS.Optimizer);"
   ]
  },
  {
   "cell_type": "code",
   "execution_count": 3,
   "metadata": {},
   "outputs": [],
   "source": [
    "# cost per pound of each kind of bean (in $)\n",
    "coffee_price = Dict(:Columbian => 1.00, :Brazilian => 0.85, :Sumatran => 1.55);\n",
    "\n",
    "# amount of each kind of bean available (in lbs)\n",
    "bean_availability = Dict(:Columbian => 550, :Brazilian => 450, :Sumatran => 650);\n",
    "\n",
    "# money made from each type of blend sold (in $)\n",
    "purchase_price = Dict(:Robust => 4.25, :Light => 3.95);"
   ]
  },
  {
   "cell_type": "code",
   "execution_count": 4,
   "metadata": {},
   "outputs": [
    {
     "data": {
      "text/plain": [
       "2-dimensional DenseAxisArray{VariableRef,2,...} with index sets:\n",
       "    Dimension 1, [:Columbian, :Brazilian, :Sumatran]\n",
       "    Dimension 2, [:Robust, :Light]\n",
       "And data, a 3×2 Matrix{VariableRef}:\n",
       " x[Columbian,Robust]  x[Columbian,Light]\n",
       " x[Brazilian,Robust]  x[Brazilian,Light]\n",
       " x[Sumatran,Robust]   x[Sumatran,Light]"
      ]
     },
     "execution_count": 4,
     "metadata": {},
     "output_type": "execute_result"
    }
   ],
   "source": [
    "# declaring variable that is indexed over types and blends\n",
    "@variable(coffeeblend, x[i in types, j in blends] >= 0)"
   ]
  },
  {
   "cell_type": "code",
   "execution_count": 5,
   "metadata": {},
   "outputs": [
    {
     "data": {
      "text/latex": [
       "SumBound3 : $ x_{Brazilian,Robust} + x_{Brazilian,Light} \\leq 450.0 $"
      ],
      "text/plain": [
       "SumBound3 : x[Brazilian,Robust] + x[Brazilian,Light] ≤ 450.0"
      ]
     },
     "execution_count": 5,
     "metadata": {},
     "output_type": "execute_result"
    }
   ],
   "source": [
    "# constraints for Robust Joe\n",
    "@constraint(coffeeblend, RSLowerBound, x[:Sumatran, :Robust] >= 0.6*sum(x[i,:Robust] for i in types));\n",
    "@constraint(coffeeblend, RSUpperBound, x[:Sumatran, :Robust] <= 0.75*sum(x[i,:Robust] for i in types));\n",
    "@constraint(coffeeblend, RCBound, x[:Columbian, :Robust] >= 0.1*sum(x[i,:Robust] for i in types));\n",
    "\n",
    "# constraints for Light Joe\n",
    "@constraint(coffeeblend, LBLowerBound, x[:Brazilian, :Light] >= 0.5*sum(x[i,:Light] for i in types));\n",
    "@constraint(coffeeblend, LBUpperBound, x[:Brazilian, :Light] <= 0.6*sum(x[i,:Light] for i in types));\n",
    "@constraint(coffeeblend, LSBound, x[:Sumatran, :Light] <= 0.2*sum(x[i,:Light] for i in types));\n",
    "\n",
    "# constraints for bean amount \n",
    "@constraint(coffeeblend, SumBound, sum(x[:Sumatran, i] for i in blends) <= 650)\n",
    "@constraint(coffeeblend, SumBound2, sum(x[:Columbian, i] for i in blends) <= 550)\n",
    "@constraint(coffeeblend, SumBound3, sum(x[:Brazilian, i] for i in blends) <= 450)"
   ]
  },
  {
   "cell_type": "code",
   "execution_count": 6,
   "metadata": {},
   "outputs": [],
   "source": [
    "#Create our objective function and set it for minimization\n",
    "\n",
    "cost = 1.00*sum(x[:Columbian, i] for i in blends) + 0.85*sum(x[:Brazilian, i] for i in blends) + 1.55*sum(x[:Sumatran, i] for i in blends)\n",
    "revenue = 4.25*sum(x[i, :Robust] for i in types) + 3.95*sum(x[i, :Light] for i in types)\n",
    "\n",
    "@objective(coffeeblend, Max, revenue - cost);"
   ]
  },
  {
   "cell_type": "code",
   "execution_count": 7,
   "metadata": {},
   "outputs": [
    {
     "name": "stdout",
     "output_type": "stream",
     "text": [
      "Presolving model\n",
      "9 rows, 6 cols, 24 nonzeros\n",
      "9 rows, 6 cols, 24 nonzeros\n",
      "Presolve : Reductions: rows 9(-0); columns 6(-0); elements 24(-0)\n",
      "Solving the presolved LP\n",
      "Using EKK dual simplex solver - serial\n",
      "  Iteration        Objective     Infeasibilities num(sum)\n",
      "          0    -4.4549962997e+01 Ph1: 8(10.175); Du: 6(44.55) 0s\n",
      "          8    -4.9025000000e+03 Pr: 0(0) 0s\n",
      "Solving the original LP from the solution after postsolve\n",
      "Model   status      : Optimal\n",
      "Simplex   iterations: 8\n",
      "Objective value     :  4.9025000000e+03\n",
      "HiGHS run time      :          0.00\n",
      "solution_summary(coffeeblend) = * Solver : HiGHS\n",
      "\n",
      "* Status\n",
      "  Termination status : OPTIMAL\n",
      "  Primal status      : FEASIBLE_POINT\n",
      "  Dual status        : FEASIBLE_POINT\n",
      "  Message from the solver:\n",
      "  \"kHighsModelStatusOptimal\"\n",
      "\n",
      "* Candidate solution\n",
      "  Objective value      : 4.90250e+03\n",
      "  Objective bound      : 4.90250e+03\n",
      "  Relative gap         : Inf\n",
      "  Dual objective value : 4.90250e+03\n",
      "\n",
      "* Work counters\n",
      "  Solve time (sec)   : 1.39309e-03\n",
      "  Simplex iterations : 8\n",
      "  Barrier iterations : 0\n",
      "  Node count         : -1\n",
      "\n"
     ]
    }
   ],
   "source": [
    "#Solve the model\n",
    "optimize!(coffeeblend);\n",
    "\n",
    "#Outputs detailed information about the solution process\n",
    "@show solution_summary(coffeeblend);"
   ]
  }
 ],
 "metadata": {
  "kernelspec": {
   "display_name": "Julia 1.7.3",
   "language": "julia",
   "name": "julia-1.7"
  },
  "language_info": {
   "file_extension": ".jl",
   "mimetype": "application/julia",
   "name": "julia",
   "version": "1.7.3"
  },
  "orig_nbformat": 4,
  "vscode": {
   "interpreter": {
    "hash": "949777d72b0d2535278d3dc13498b2535136f6dfe0678499012e853ee9abcab1"
   }
  }
 },
 "nbformat": 4,
 "nbformat_minor": 2
}
