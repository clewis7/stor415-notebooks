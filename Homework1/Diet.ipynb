{
 "cells": [
  {
   "cell_type": "markdown",
   "metadata": {},
   "source": [
    "# Question 1\n",
    "\n",
    "Consider the following table indicating the nutrtional value of different food types:"
   ]
  },
  {
   "cell_type": "markdown",
   "metadata": {},
   "source": [
    "| Foods | Price ($) / Serving| Cal (g) / Serving | Fat (g) / Serving | Protein (g) / Serving | Carbs (g) / Serving |\n",
    "|-------|-------------------|----------------------|-----------------|---------------------|-------------------|\n",
    "|   Raw carrots    |           0.14        |            23          |          0.1       |         0.6            |            6       |\n",
    "|   Baked potatoes    |       0.12            |                   171   |          0.2       |          3.7           |           30        |\n",
    "|    Wheat bread   |         0.2          |             65         |          0       |          2.2           |            13      |\n",
    "|    Cheddar cheese   |           0.75        |           112           |        9.3         |            7         |          0         |\n",
    "|   Peanut butter    |         0.15          |          188            |       16          |          7.7           |        2           |"
   ]
  },
  {
   "cell_type": "markdown",
   "metadata": {},
   "source": [
    "You need to decide how many servings of each food to buy each day so that you minimize the total cost of buying your food while satisfying the following daily nutritional requirements:\n",
    "\n",
    "- Calories must be at least 2000,\n",
    "\n",
    "- Fat must be at least 50g,\n",
    "\n",
    "- Protein must be at least 100g, \n",
    "\n",
    "- Carbohydrates must be at least 250g."
   ]
  },
  {
   "cell_type": "markdown",
   "metadata": {},
   "source": [
    "Formulate an LP to determine how many servings of each fof the aforementioned foods meet all of the nutritional requirements, while minimizing the total cost of food.\n",
    "\n",
    "### Optimization Problem:"
   ]
  },
  {
   "cell_type": "markdown",
   "metadata": {},
   "source": [
    "\\begin{align*}\n",
    "\\underset{x}{\\min} \\quad z = 0.14carrots + 0.12potatoes + 0.2bread + 0.75cheese + 0.15peanut butter \\\\\n",
    "\\text{s.t.} \\ \\ \\quad 23carrots + 171potatoes + 65bread + 112cheese + 188peanut butter \\geq 2000, \\\\\n",
    "0.1carrots + 0.2potatoes + 9.3cheese + 16peanut butter \\geq 50, \\\\\n",
    "0.6carrots + 3.7potatoes + 2.2bread + 7cheese + 7.7peanut butter \\geq 100 \\\\ \n",
    "6carrots + 30potatoes + 13bread + 2peanut butter \\geq 250 \\\\\n",
    "carrots, potatoes, bread, cheese, peanutbutter \\geq 0.\n",
    "\\end{align*}"
   ]
  },
  {
   "cell_type": "code",
   "execution_count": 1,
   "metadata": {},
   "outputs": [],
   "source": [
    "using JuMP\n",
    "using HiGHS\n",
    "\n",
    "# definining the model and relevant optimizer\n",
    "diet = Model(HiGHS.Optimizer);"
   ]
  },
  {
   "cell_type": "code",
   "execution_count": 2,
   "metadata": {},
   "outputs": [],
   "source": [
    "# defining the variables of the optimization problem\n",
    "@variable(diet, carrots >= 0);\n",
    "@variable(diet, potatoes >= 0);\n",
    "@variable(diet, bread >= 0);\n",
    "@variable(diet, cheese >= 0);\n",
    "@variable(diet, peanut_butter >= 0);"
   ]
  },
  {
   "cell_type": "code",
   "execution_count": 3,
   "metadata": {},
   "outputs": [],
   "source": [
    "# defining constraints for the model\n",
    "@constraint(diet, constraint1, 23carrots + 171potatoes + 65bread + 112cheese + 188peanut_butter >= 2000);\n",
    "@constraint(diet, constraint2, 0.1carrots + 0.2potatoes + 9.3cheese + 16peanut_butter >= 50);\n",
    "@constraint(diet, constraint3, 0.6carrots + 3.7potatoes + 2.2bread + 7cheese + 7.7peanut_butter >= 100);\n",
    "@constraint(diet, constraint4, 6carrots + 30potatoes + 13bread + 2peanut_butter >= 250);"
   ]
  },
  {
   "cell_type": "code",
   "execution_count": 4,
   "metadata": {},
   "outputs": [],
   "source": [
    "# defining the objective function for the model\n",
    "@objective(diet, Min, 0.14carrots + 0.12potatoes + 0.2bread + 0.75cheese + 0.15peanut_butter);"
   ]
  },
  {
   "cell_type": "code",
   "execution_count": 5,
   "metadata": {},
   "outputs": [
    {
     "name": "stdout",
     "output_type": "stream",
     "text": [
      "Presolving model\n",
      "4 rows, 4 cols, 15 nonzeros\n",
      "4 rows, 2 cols, 8 nonzeros\n",
      "Presolve : Reductions: rows 4(-0); columns 2(-3); elements 8(-10)\n",
      "Solving the presolved LP\n",
      "Using EKK dual simplex solver - serial\n",
      "  Iteration        Objective     Infeasibilities num(sum)\n",
      "          0     0.0000000000e+00 Pr: 4(975) 0s\n",
      "          3     2.3177549195e+00 Pr: 0(0) 0s\n",
      "Solving the original LP from the solution after postsolve\n",
      "Model   status      : Optimal\n",
      "Simplex   iterations: 3\n",
      "Objective value     :  2.3177549195e+00\n",
      "HiGHS run time      :          0.03\n",
      "solution_summary(diet) = * Solver : HiGHS\n",
      "\n",
      "* Status\n",
      "  Termination status : OPTIMAL\n",
      "  Primal status      : FEASIBLE_POINT\n",
      "  Dual status        : FEASIBLE_POINT\n",
      "  Message from the solver:\n",
      "  \"kHighsModelStatusOptimal\"\n",
      "\n",
      "* Candidate solution\n",
      "  Objective value      : 2.31775e+00\n",
      "  Objective bound      : 0.00000e+00\n",
      "  Relative gap         : Inf\n",
      "  Dual objective value : 2.31775e+00\n",
      "\n",
      "* Work counters\n",
      "  Solve time (sec)   : 3.41598e-02\n",
      "  Simplex iterations : 3\n",
      "  Barrier iterations : 0\n",
      "  Node count         : -1\n",
      "\n"
     ]
    }
   ],
   "source": [
    "# solving the model\n",
    "optimize!(diet);\n",
    "\n",
    "# outputs detailed information about the solution process\n",
    "@show solution_summary(diet);"
   ]
  }
 ],
 "metadata": {
  "kernelspec": {
   "display_name": "Julia 1.7.3",
   "language": "julia",
   "name": "julia-1.7"
  },
  "language_info": {
   "file_extension": ".jl",
   "mimetype": "application/julia",
   "name": "julia",
   "version": "1.7.3"
  },
  "orig_nbformat": 4,
  "vscode": {
   "interpreter": {
    "hash": "949777d72b0d2535278d3dc13498b2535136f6dfe0678499012e853ee9abcab1"
   }
  }
 },
 "nbformat": 4,
 "nbformat_minor": 2
}
